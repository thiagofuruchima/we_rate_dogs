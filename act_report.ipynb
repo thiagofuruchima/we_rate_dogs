{
 "cells": [
  {
   "cell_type": "markdown",
   "id": "similar-mortgage",
   "metadata": {},
   "source": [
    "## WeRateDogs Analysis\n",
    "\n",
    "Our first insight was the top breeds in tweets analysed by WeRateDogs. Here are the top 10:\n",
    "\n",
    "1° - Golden Retriever<br/>\n",
    "2° - Labrador Retriever<br/>\n",
    "3° - Pembroke<br/>\n",
    "4° - Chihuahua<br/>\n",
    "5° - Pug<br/>\n",
    "6° - Chow<br/>\n",
    "7° - Samoyed<br/>\n",
    "8° - Pomeranian<br/>\n",
    "9° - Toy Poodle<br/>\n",
    "10° - Malamute<br/>"
   ]
  },
  {
   "cell_type": "markdown",
   "id": "fabulous-zoning",
   "metadata": {},
   "source": [
    "Golden Retriever and Labrador Retriever are the two most common breeds in the dataset. But how \"likable\" are they compared to other breeds? Do people favorite more tweets if it is about a Golden Retriever? What about a Labrador Retriever?\n",
    "To answer these questions we used hypothesis testing on the number of favorites each tweet got.\n",
    "\n",
    "Using apropriate statistical tests, we found out that:\n",
    "\n",
    "- <strong>Golden Retriever tweets are more likable than other tweets.</strong>\n",
    "- Labrador Retriever tweets are NOT more likable than other tweets.\n",
    "- <strong>Pembroke tweets are more likable than other tweets.</strong>\n",
    "- Chihuahua tweets are NOT more likable than other tweets.\n",
    "- Pug tweets are NOT more likable than other tweets.\n",
    "- Chow tweets are NOT more likable than other tweets.\n",
    "- <strong>Samoyed tweets are more likable than other tweets.</strong>\n",
    "- Pomeranian tweets are NOT more likable than other tweets.\n",
    "- Toy Poodle tweets are NOT more likable than other tweets."
   ]
  },
  {
   "cell_type": "markdown",
   "id": "injured-national",
   "metadata": {},
   "source": [
    "Very interesting results. Golden Retriever, Pembroke and Samoyed are very likable dogs!\n",
    "But what can we say about how popular these breeds are? To \"measure\" that, we used hypothesis testing on the retweet count each tweet got. Here are the results:\n",
    "\n",
    "- <strong>Golden Retriever tweets are more popular than other tweets.</strong>\n",
    "- Labrador Retriever tweets are NOT more popular than other tweets.\n",
    "- Pembroke tweets are NOT more popular than other tweets.\n",
    "- Chihuahua tweets are NOT more popular than other tweets.\n",
    "- Pug tweets are NOT more popular than other tweets.\n",
    "- Chow tweets are NOT more popular than other tweets.\n",
    "- <strong>Samoyed tweets are more popular than other tweets.</strong>\n",
    "- Pomeranian tweets are NOT more popular than other tweets.\n",
    "- Toy Poodle tweets are NOT more popular than other tweets."
   ]
  },
  {
   "cell_type": "markdown",
   "id": "underlying-simon",
   "metadata": {},
   "source": [
    "Golden Retriever and Samoyed again showed up! Since these two breeds are both likable and popular, we built a 95% confidence interval for the retweet and favorite count a tweet showing any of this would get:\n",
    "\n",
    "- The 95% confidence interval for the <strong>Golden Retriever retweet</strong> count is between <strong>2520 and 3810</strong>.\n",
    "- The 95% confidence interval for the <strong>Golden Retriever favorite</strong> count is between <strong>9304 and 1326</strong>.\n",
    "- The 95% confidence interval for the <strong>Samoyed retweet</strong> count is between <strong>2631 and 5084</strong>.\n",
    "- The 95% confidence interval for the <strong>Samoyed favorite</strong> count is between <strong>8208 and 16128</strong>."
   ]
  },
  {
   "attachments": {},
   "cell_type": "markdown",
   "id": "imposed-antibody",
   "metadata": {},
   "source": [
    "Lastly, these are the most relevant words regarding WeRateDogs tweets:\n",
    "\n",
    "![image.png](dog_cloud.png)"
   ]
  },
  {
   "cell_type": "code",
   "execution_count": null,
   "id": "retained-appreciation",
   "metadata": {},
   "outputs": [],
   "source": []
  }
 ],
 "metadata": {
  "kernelspec": {
   "display_name": "Python 3",
   "language": "python",
   "name": "python3"
  },
  "language_info": {
   "codemirror_mode": {
    "name": "ipython",
    "version": 3
   },
   "file_extension": ".py",
   "mimetype": "text/x-python",
   "name": "python",
   "nbconvert_exporter": "python",
   "pygments_lexer": "ipython3",
   "version": "3.8.8"
  }
 },
 "nbformat": 4,
 "nbformat_minor": 5
}
