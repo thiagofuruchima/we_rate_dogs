{
 "cells": [
  {
   "cell_type": "markdown",
   "id": "magnetic-november",
   "metadata": {
    "colab_type": "text",
    "id": "view-in-github"
   },
   "source": [
    "<a href=\"https://colab.research.google.com/github/thiagofuruchima/weratedogs_dsnd/blob/main/wrangle_act.ipynb\" target=\"_parent\"><img src=\"https://colab.research.google.com/assets/colab-badge.svg\" alt=\"Open In Colab\"/></a>"
   ]
  },
  {
   "cell_type": "code",
   "execution_count": 3,
   "id": "occupied-tuesday",
   "metadata": {
    "id": "occupied-tuesday"
   },
   "outputs": [],
   "source": [
    "import requests\n",
    "import pandas as pd\n",
    "import numpy as np\n",
    "import json\n",
    "import time\n",
    "import tweepy\n",
    "from tweepy import TweepError\n",
    "from pandas.io.json import json_normalize\n",
    "from scipy import stats\n",
    "from statsmodels import stats as sms\n",
    "import matplotlib.pyplot as plt"
   ]
  },
  {
   "cell_type": "markdown",
   "id": "representative-zimbabwe",
   "metadata": {
    "id": "representative-zimbabwe"
   },
   "source": [
    "# Data Wrangling Process\n",
    "<ol>\n",
    "    <li><strong> Gather; </strong></li>\n",
    "    <li><strong> Assess; </strong></li>\n",
    "    <li><strong> Clean. </strong></li>\n",
    "</ol>"
   ]
  },
  {
   "cell_type": "markdown",
   "id": "classified-sense",
   "metadata": {
    "id": "classified-sense"
   },
   "source": [
    "## 1. Gather the Data"
   ]
  },
  {
   "cell_type": "markdown",
   "id": "published-sellers",
   "metadata": {
    "id": "published-sellers"
   },
   "source": [
    "#### twitter-archive-enhanced.csv"
   ]
  },
  {
   "cell_type": "code",
   "execution_count": 4,
   "id": "cathedral-cooling",
   "metadata": {
    "id": "cathedral-cooling"
   },
   "outputs": [],
   "source": [
    "df_twitter_archive = pd.read_csv(\"twitter-archive-enhanced.csv\", sep=',')"
   ]
  },
  {
   "cell_type": "code",
   "execution_count": 5,
   "id": "sharing-camel",
   "metadata": {
    "colab": {
     "base_uri": "https://localhost:8080/"
    },
    "id": "sharing-camel",
    "outputId": "19791870-2bd8-494c-8809-f0104c57bb36"
   },
   "outputs": [
    {
     "data": {
      "text/plain": [
       "(2356, 17)"
      ]
     },
     "execution_count": 5,
     "metadata": {},
     "output_type": "execute_result"
    }
   ],
   "source": [
    "df_twitter_archive.shape"
   ]
  },
  {
   "cell_type": "code",
   "execution_count": 6,
   "id": "overall-amendment",
   "metadata": {
    "colab": {
     "base_uri": "https://localhost:8080/"
    },
    "id": "overall-amendment",
    "outputId": "8fad4986-c202-4bed-eaf4-7c5028779801"
   },
   "outputs": [
    {
     "name": "stdout",
     "output_type": "stream",
     "text": [
      "<class 'pandas.core.frame.DataFrame'>\n",
      "RangeIndex: 2356 entries, 0 to 2355\n",
      "Data columns (total 17 columns):\n",
      " #   Column                      Non-Null Count  Dtype  \n",
      "---  ------                      --------------  -----  \n",
      " 0   tweet_id                    2356 non-null   int64  \n",
      " 1   in_reply_to_status_id       78 non-null     float64\n",
      " 2   in_reply_to_user_id         78 non-null     float64\n",
      " 3   timestamp                   2356 non-null   object \n",
      " 4   source                      2356 non-null   object \n",
      " 5   text                        2356 non-null   object \n",
      " 6   retweeted_status_id         181 non-null    float64\n",
      " 7   retweeted_status_user_id    181 non-null    float64\n",
      " 8   retweeted_status_timestamp  181 non-null    object \n",
      " 9   expanded_urls               2297 non-null   object \n",
      " 10  rating_numerator            2356 non-null   int64  \n",
      " 11  rating_denominator          2356 non-null   int64  \n",
      " 12  name                        2356 non-null   object \n",
      " 13  doggo                       2356 non-null   object \n",
      " 14  floofer                     2356 non-null   object \n",
      " 15  pupper                      2356 non-null   object \n",
      " 16  puppo                       2356 non-null   object \n",
      "dtypes: float64(4), int64(3), object(10)\n",
      "memory usage: 313.0+ KB\n"
     ]
    }
   ],
   "source": [
    "df_twitter_archive.info()"
   ]
  },
  {
   "cell_type": "code",
   "execution_count": 7,
   "id": "chinese-treasury",
   "metadata": {
    "colab": {
     "base_uri": "https://localhost:8080/",
     "height": 581
    },
    "id": "chinese-treasury",
    "outputId": "3f4e73b1-3ff9-430b-fc05-e233959c2666"
   },
   "outputs": [
    {
     "data": {
      "text/html": [
       "<div>\n",
       "<style scoped>\n",
       "    .dataframe tbody tr th:only-of-type {\n",
       "        vertical-align: middle;\n",
       "    }\n",
       "\n",
       "    .dataframe tbody tr th {\n",
       "        vertical-align: top;\n",
       "    }\n",
       "\n",
       "    .dataframe thead th {\n",
       "        text-align: right;\n",
       "    }\n",
       "</style>\n",
       "<table border=\"1\" class=\"dataframe\">\n",
       "  <thead>\n",
       "    <tr style=\"text-align: right;\">\n",
       "      <th></th>\n",
       "      <th>tweet_id</th>\n",
       "      <th>in_reply_to_status_id</th>\n",
       "      <th>in_reply_to_user_id</th>\n",
       "      <th>timestamp</th>\n",
       "      <th>source</th>\n",
       "      <th>text</th>\n",
       "      <th>retweeted_status_id</th>\n",
       "      <th>retweeted_status_user_id</th>\n",
       "      <th>retweeted_status_timestamp</th>\n",
       "      <th>expanded_urls</th>\n",
       "      <th>rating_numerator</th>\n",
       "      <th>rating_denominator</th>\n",
       "      <th>name</th>\n",
       "      <th>doggo</th>\n",
       "      <th>floofer</th>\n",
       "      <th>pupper</th>\n",
       "      <th>puppo</th>\n",
       "    </tr>\n",
       "  </thead>\n",
       "  <tbody>\n",
       "    <tr>\n",
       "      <th>0</th>\n",
       "      <td>892420643555336193</td>\n",
       "      <td>NaN</td>\n",
       "      <td>NaN</td>\n",
       "      <td>2017-08-01 16:23:56 +0000</td>\n",
       "      <td>&lt;a href=\"http://twitter.com/download/iphone\" r...</td>\n",
       "      <td>This is Phineas. He's a mystical boy. Only eve...</td>\n",
       "      <td>NaN</td>\n",
       "      <td>NaN</td>\n",
       "      <td>NaN</td>\n",
       "      <td>https://twitter.com/dog_rates/status/892420643...</td>\n",
       "      <td>13</td>\n",
       "      <td>10</td>\n",
       "      <td>Phineas</td>\n",
       "      <td>None</td>\n",
       "      <td>None</td>\n",
       "      <td>None</td>\n",
       "      <td>None</td>\n",
       "    </tr>\n",
       "    <tr>\n",
       "      <th>1</th>\n",
       "      <td>892177421306343426</td>\n",
       "      <td>NaN</td>\n",
       "      <td>NaN</td>\n",
       "      <td>2017-08-01 00:17:27 +0000</td>\n",
       "      <td>&lt;a href=\"http://twitter.com/download/iphone\" r...</td>\n",
       "      <td>This is Tilly. She's just checking pup on you....</td>\n",
       "      <td>NaN</td>\n",
       "      <td>NaN</td>\n",
       "      <td>NaN</td>\n",
       "      <td>https://twitter.com/dog_rates/status/892177421...</td>\n",
       "      <td>13</td>\n",
       "      <td>10</td>\n",
       "      <td>Tilly</td>\n",
       "      <td>None</td>\n",
       "      <td>None</td>\n",
       "      <td>None</td>\n",
       "      <td>None</td>\n",
       "    </tr>\n",
       "    <tr>\n",
       "      <th>2</th>\n",
       "      <td>891815181378084864</td>\n",
       "      <td>NaN</td>\n",
       "      <td>NaN</td>\n",
       "      <td>2017-07-31 00:18:03 +0000</td>\n",
       "      <td>&lt;a href=\"http://twitter.com/download/iphone\" r...</td>\n",
       "      <td>This is Archie. He is a rare Norwegian Pouncin...</td>\n",
       "      <td>NaN</td>\n",
       "      <td>NaN</td>\n",
       "      <td>NaN</td>\n",
       "      <td>https://twitter.com/dog_rates/status/891815181...</td>\n",
       "      <td>12</td>\n",
       "      <td>10</td>\n",
       "      <td>Archie</td>\n",
       "      <td>None</td>\n",
       "      <td>None</td>\n",
       "      <td>None</td>\n",
       "      <td>None</td>\n",
       "    </tr>\n",
       "    <tr>\n",
       "      <th>3</th>\n",
       "      <td>891689557279858688</td>\n",
       "      <td>NaN</td>\n",
       "      <td>NaN</td>\n",
       "      <td>2017-07-30 15:58:51 +0000</td>\n",
       "      <td>&lt;a href=\"http://twitter.com/download/iphone\" r...</td>\n",
       "      <td>This is Darla. She commenced a snooze mid meal...</td>\n",
       "      <td>NaN</td>\n",
       "      <td>NaN</td>\n",
       "      <td>NaN</td>\n",
       "      <td>https://twitter.com/dog_rates/status/891689557...</td>\n",
       "      <td>13</td>\n",
       "      <td>10</td>\n",
       "      <td>Darla</td>\n",
       "      <td>None</td>\n",
       "      <td>None</td>\n",
       "      <td>None</td>\n",
       "      <td>None</td>\n",
       "    </tr>\n",
       "    <tr>\n",
       "      <th>4</th>\n",
       "      <td>891327558926688256</td>\n",
       "      <td>NaN</td>\n",
       "      <td>NaN</td>\n",
       "      <td>2017-07-29 16:00:24 +0000</td>\n",
       "      <td>&lt;a href=\"http://twitter.com/download/iphone\" r...</td>\n",
       "      <td>This is Franklin. He would like you to stop ca...</td>\n",
       "      <td>NaN</td>\n",
       "      <td>NaN</td>\n",
       "      <td>NaN</td>\n",
       "      <td>https://twitter.com/dog_rates/status/891327558...</td>\n",
       "      <td>12</td>\n",
       "      <td>10</td>\n",
       "      <td>Franklin</td>\n",
       "      <td>None</td>\n",
       "      <td>None</td>\n",
       "      <td>None</td>\n",
       "      <td>None</td>\n",
       "    </tr>\n",
       "  </tbody>\n",
       "</table>\n",
       "</div>"
      ],
      "text/plain": [
       "             tweet_id  in_reply_to_status_id  in_reply_to_user_id  \\\n",
       "0  892420643555336193                    NaN                  NaN   \n",
       "1  892177421306343426                    NaN                  NaN   \n",
       "2  891815181378084864                    NaN                  NaN   \n",
       "3  891689557279858688                    NaN                  NaN   \n",
       "4  891327558926688256                    NaN                  NaN   \n",
       "\n",
       "                   timestamp  \\\n",
       "0  2017-08-01 16:23:56 +0000   \n",
       "1  2017-08-01 00:17:27 +0000   \n",
       "2  2017-07-31 00:18:03 +0000   \n",
       "3  2017-07-30 15:58:51 +0000   \n",
       "4  2017-07-29 16:00:24 +0000   \n",
       "\n",
       "                                              source  \\\n",
       "0  <a href=\"http://twitter.com/download/iphone\" r...   \n",
       "1  <a href=\"http://twitter.com/download/iphone\" r...   \n",
       "2  <a href=\"http://twitter.com/download/iphone\" r...   \n",
       "3  <a href=\"http://twitter.com/download/iphone\" r...   \n",
       "4  <a href=\"http://twitter.com/download/iphone\" r...   \n",
       "\n",
       "                                                text  retweeted_status_id  \\\n",
       "0  This is Phineas. He's a mystical boy. Only eve...                  NaN   \n",
       "1  This is Tilly. She's just checking pup on you....                  NaN   \n",
       "2  This is Archie. He is a rare Norwegian Pouncin...                  NaN   \n",
       "3  This is Darla. She commenced a snooze mid meal...                  NaN   \n",
       "4  This is Franklin. He would like you to stop ca...                  NaN   \n",
       "\n",
       "   retweeted_status_user_id retweeted_status_timestamp  \\\n",
       "0                       NaN                        NaN   \n",
       "1                       NaN                        NaN   \n",
       "2                       NaN                        NaN   \n",
       "3                       NaN                        NaN   \n",
       "4                       NaN                        NaN   \n",
       "\n",
       "                                       expanded_urls  rating_numerator  \\\n",
       "0  https://twitter.com/dog_rates/status/892420643...                13   \n",
       "1  https://twitter.com/dog_rates/status/892177421...                13   \n",
       "2  https://twitter.com/dog_rates/status/891815181...                12   \n",
       "3  https://twitter.com/dog_rates/status/891689557...                13   \n",
       "4  https://twitter.com/dog_rates/status/891327558...                12   \n",
       "\n",
       "   rating_denominator      name doggo floofer pupper puppo  \n",
       "0                  10   Phineas  None    None   None  None  \n",
       "1                  10     Tilly  None    None   None  None  \n",
       "2                  10    Archie  None    None   None  None  \n",
       "3                  10     Darla  None    None   None  None  \n",
       "4                  10  Franklin  None    None   None  None  "
      ]
     },
     "execution_count": 7,
     "metadata": {},
     "output_type": "execute_result"
    }
   ],
   "source": [
    "df_twitter_archive.head()"
   ]
  },
  {
   "cell_type": "markdown",
   "id": "surgical-prescription",
   "metadata": {
    "id": "surgical-prescription"
   },
   "source": [
    "#### image-predictions.tsv"
   ]
  },
  {
   "cell_type": "code",
   "execution_count": 8,
   "id": "chief-weekend",
   "metadata": {
    "id": "chief-weekend"
   },
   "outputs": [],
   "source": [
    "url = 'https://d17h27t6h515a5.cloudfront.net/topher/2017/August/599fd2ad_image-predictions/image-predictions.tsv'"
   ]
  },
  {
   "cell_type": "code",
   "execution_count": 9,
   "id": "respected-priority",
   "metadata": {
    "id": "respected-priority"
   },
   "outputs": [],
   "source": [
    "response = requests.get(url)\n",
    "if (response.status_code==200):\n",
    "    with open('image-predictions.tsv', 'wb') as file:\n",
    "        file.write(response.content)"
   ]
  },
  {
   "cell_type": "code",
   "execution_count": 10,
   "id": "identical-cradle",
   "metadata": {
    "id": "identical-cradle"
   },
   "outputs": [],
   "source": [
    "df_image_predictions = pd.read_csv('image-predictions.tsv', sep='\\t')"
   ]
  },
  {
   "cell_type": "code",
   "execution_count": 11,
   "id": "final-spread",
   "metadata": {
    "colab": {
     "base_uri": "https://localhost:8080/"
    },
    "id": "final-spread",
    "outputId": "a5e75bb9-6273-4040-ca65-0885c09f59f4"
   },
   "outputs": [
    {
     "data": {
      "text/plain": [
       "(2075, 12)"
      ]
     },
     "execution_count": 11,
     "metadata": {},
     "output_type": "execute_result"
    }
   ],
   "source": [
    "df_image_predictions.shape"
   ]
  },
  {
   "cell_type": "code",
   "execution_count": 12,
   "id": "biblical-anxiety",
   "metadata": {
    "colab": {
     "base_uri": "https://localhost:8080/"
    },
    "id": "biblical-anxiety",
    "outputId": "878ee2ac-d492-4139-e74a-d1594b76bbfc"
   },
   "outputs": [
    {
     "name": "stdout",
     "output_type": "stream",
     "text": [
      "<class 'pandas.core.frame.DataFrame'>\n",
      "RangeIndex: 2075 entries, 0 to 2074\n",
      "Data columns (total 12 columns):\n",
      " #   Column    Non-Null Count  Dtype  \n",
      "---  ------    --------------  -----  \n",
      " 0   tweet_id  2075 non-null   int64  \n",
      " 1   jpg_url   2075 non-null   object \n",
      " 2   img_num   2075 non-null   int64  \n",
      " 3   p1        2075 non-null   object \n",
      " 4   p1_conf   2075 non-null   float64\n",
      " 5   p1_dog    2075 non-null   bool   \n",
      " 6   p2        2075 non-null   object \n",
      " 7   p2_conf   2075 non-null   float64\n",
      " 8   p2_dog    2075 non-null   bool   \n",
      " 9   p3        2075 non-null   object \n",
      " 10  p3_conf   2075 non-null   float64\n",
      " 11  p3_dog    2075 non-null   bool   \n",
      "dtypes: bool(3), float64(3), int64(2), object(4)\n",
      "memory usage: 152.1+ KB\n"
     ]
    }
   ],
   "source": [
    "df_image_predictions.info()"
   ]
  },
  {
   "cell_type": "code",
   "execution_count": 13,
   "id": "promotional-durham",
   "metadata": {
    "colab": {
     "base_uri": "https://localhost:8080/",
     "height": 223
    },
    "id": "promotional-durham",
    "outputId": "21a1e24e-45df-477c-f3a8-a7d587a09f7e"
   },
   "outputs": [
    {
     "data": {
      "text/html": [
       "<div>\n",
       "<style scoped>\n",
       "    .dataframe tbody tr th:only-of-type {\n",
       "        vertical-align: middle;\n",
       "    }\n",
       "\n",
       "    .dataframe tbody tr th {\n",
       "        vertical-align: top;\n",
       "    }\n",
       "\n",
       "    .dataframe thead th {\n",
       "        text-align: right;\n",
       "    }\n",
       "</style>\n",
       "<table border=\"1\" class=\"dataframe\">\n",
       "  <thead>\n",
       "    <tr style=\"text-align: right;\">\n",
       "      <th></th>\n",
       "      <th>tweet_id</th>\n",
       "      <th>jpg_url</th>\n",
       "      <th>img_num</th>\n",
       "      <th>p1</th>\n",
       "      <th>p1_conf</th>\n",
       "      <th>p1_dog</th>\n",
       "      <th>p2</th>\n",
       "      <th>p2_conf</th>\n",
       "      <th>p2_dog</th>\n",
       "      <th>p3</th>\n",
       "      <th>p3_conf</th>\n",
       "      <th>p3_dog</th>\n",
       "    </tr>\n",
       "  </thead>\n",
       "  <tbody>\n",
       "    <tr>\n",
       "      <th>0</th>\n",
       "      <td>666020888022790149</td>\n",
       "      <td>https://pbs.twimg.com/media/CT4udn0WwAA0aMy.jpg</td>\n",
       "      <td>1</td>\n",
       "      <td>Welsh_springer_spaniel</td>\n",
       "      <td>0.465074</td>\n",
       "      <td>True</td>\n",
       "      <td>collie</td>\n",
       "      <td>0.156665</td>\n",
       "      <td>True</td>\n",
       "      <td>Shetland_sheepdog</td>\n",
       "      <td>0.061428</td>\n",
       "      <td>True</td>\n",
       "    </tr>\n",
       "    <tr>\n",
       "      <th>1</th>\n",
       "      <td>666029285002620928</td>\n",
       "      <td>https://pbs.twimg.com/media/CT42GRgUYAA5iDo.jpg</td>\n",
       "      <td>1</td>\n",
       "      <td>redbone</td>\n",
       "      <td>0.506826</td>\n",
       "      <td>True</td>\n",
       "      <td>miniature_pinscher</td>\n",
       "      <td>0.074192</td>\n",
       "      <td>True</td>\n",
       "      <td>Rhodesian_ridgeback</td>\n",
       "      <td>0.072010</td>\n",
       "      <td>True</td>\n",
       "    </tr>\n",
       "    <tr>\n",
       "      <th>2</th>\n",
       "      <td>666033412701032449</td>\n",
       "      <td>https://pbs.twimg.com/media/CT4521TWwAEvMyu.jpg</td>\n",
       "      <td>1</td>\n",
       "      <td>German_shepherd</td>\n",
       "      <td>0.596461</td>\n",
       "      <td>True</td>\n",
       "      <td>malinois</td>\n",
       "      <td>0.138584</td>\n",
       "      <td>True</td>\n",
       "      <td>bloodhound</td>\n",
       "      <td>0.116197</td>\n",
       "      <td>True</td>\n",
       "    </tr>\n",
       "    <tr>\n",
       "      <th>3</th>\n",
       "      <td>666044226329800704</td>\n",
       "      <td>https://pbs.twimg.com/media/CT5Dr8HUEAA-lEu.jpg</td>\n",
       "      <td>1</td>\n",
       "      <td>Rhodesian_ridgeback</td>\n",
       "      <td>0.408143</td>\n",
       "      <td>True</td>\n",
       "      <td>redbone</td>\n",
       "      <td>0.360687</td>\n",
       "      <td>True</td>\n",
       "      <td>miniature_pinscher</td>\n",
       "      <td>0.222752</td>\n",
       "      <td>True</td>\n",
       "    </tr>\n",
       "    <tr>\n",
       "      <th>4</th>\n",
       "      <td>666049248165822465</td>\n",
       "      <td>https://pbs.twimg.com/media/CT5IQmsXIAAKY4A.jpg</td>\n",
       "      <td>1</td>\n",
       "      <td>miniature_pinscher</td>\n",
       "      <td>0.560311</td>\n",
       "      <td>True</td>\n",
       "      <td>Rottweiler</td>\n",
       "      <td>0.243682</td>\n",
       "      <td>True</td>\n",
       "      <td>Doberman</td>\n",
       "      <td>0.154629</td>\n",
       "      <td>True</td>\n",
       "    </tr>\n",
       "  </tbody>\n",
       "</table>\n",
       "</div>"
      ],
      "text/plain": [
       "             tweet_id                                          jpg_url  \\\n",
       "0  666020888022790149  https://pbs.twimg.com/media/CT4udn0WwAA0aMy.jpg   \n",
       "1  666029285002620928  https://pbs.twimg.com/media/CT42GRgUYAA5iDo.jpg   \n",
       "2  666033412701032449  https://pbs.twimg.com/media/CT4521TWwAEvMyu.jpg   \n",
       "3  666044226329800704  https://pbs.twimg.com/media/CT5Dr8HUEAA-lEu.jpg   \n",
       "4  666049248165822465  https://pbs.twimg.com/media/CT5IQmsXIAAKY4A.jpg   \n",
       "\n",
       "   img_num                      p1   p1_conf  p1_dog                  p2  \\\n",
       "0        1  Welsh_springer_spaniel  0.465074    True              collie   \n",
       "1        1                 redbone  0.506826    True  miniature_pinscher   \n",
       "2        1         German_shepherd  0.596461    True            malinois   \n",
       "3        1     Rhodesian_ridgeback  0.408143    True             redbone   \n",
       "4        1      miniature_pinscher  0.560311    True          Rottweiler   \n",
       "\n",
       "    p2_conf  p2_dog                   p3   p3_conf  p3_dog  \n",
       "0  0.156665    True    Shetland_sheepdog  0.061428    True  \n",
       "1  0.074192    True  Rhodesian_ridgeback  0.072010    True  \n",
       "2  0.138584    True           bloodhound  0.116197    True  \n",
       "3  0.360687    True   miniature_pinscher  0.222752    True  \n",
       "4  0.243682    True             Doberman  0.154629    True  "
      ]
     },
     "execution_count": 13,
     "metadata": {},
     "output_type": "execute_result"
    }
   ],
   "source": [
    "df_image_predictions.head()"
   ]
  },
  {
   "cell_type": "markdown",
   "id": "proud-above",
   "metadata": {
    "id": "proud-above"
   },
   "source": [
    "#### tweet_json.txt"
   ]
  },
  {
   "cell_type": "code",
   "execution_count": null,
   "id": "architectural-foundation",
   "metadata": {
    "id": "architectural-foundation"
   },
   "outputs": [],
   "source": [
    "import twitter_config"
   ]
  },
  {
   "cell_type": "code",
   "execution_count": null,
   "id": "general-momentum",
   "metadata": {
    "id": "general-momentum"
   },
   "outputs": [],
   "source": [
    "auth = tweepy.OAuthHandler(twitter_config.consumer_key, twitter_config.consumer_secret)\n",
    "\n",
    "auth.set_access_token(twitter_config.access_token, twitter_config.access_token_secret)\n",
    "\n",
    "api = tweepy.API(auth, wait_on_rate_limit=True, wait_on_rate_limit_notify=True)"
   ]
  },
  {
   "cell_type": "code",
   "execution_count": null,
   "id": "distinguished-better",
   "metadata": {
    "id": "distinguished-better"
   },
   "outputs": [],
   "source": [
    "# get all unique tweet_ids from the twitter-archive-enhanced.csv dataframe\n",
    "tweet_ids = set(df_twitter_archive['tweet_id'].unique())\n",
    "\n",
    "with open('all_tweet.json', 'wt') as file:\n",
    "    for tweet_id in tweet_ids:\n",
    "        \n",
    "        print ('Reading tweet {}'.format(tweet_id))\n",
    "        try:\n",
    "            tweet = api.get_status(tweet_id, tweet_mode='extended')\n",
    "            json.dump(tweet._json, file)\n",
    "            file.write('\\n')\n",
    "            time.sleep(1)\n",
    "        except TweepError as e:\n",
    "            print ('Error reading tweet {}'.format(tweet_id))\n",
    "            print(e)"
   ]
  },
  {
   "cell_type": "code",
   "execution_count": 14,
   "id": "GfTVfKYX9XJL",
   "metadata": {
    "id": "GfTVfKYX9XJL"
   },
   "outputs": [],
   "source": [
    "list_df = []\n",
    "with open('all_tweet.json') as file:\n",
    "  for line in file:\n",
    "    df_tweet = pd.DataFrame(pd.json_normalize(json.loads(line)))\n",
    "    list_df.append(df_tweet)\n",
    "\n",
    "df_all_tweet_info = pd.concat(list_df, axis=0)"
   ]
  },
  {
   "cell_type": "code",
   "execution_count": 15,
   "id": "o5plrSlXQ9yg",
   "metadata": {
    "colab": {
     "base_uri": "https://localhost:8080/",
     "height": 610
    },
    "id": "o5plrSlXQ9yg",
    "outputId": "5f4ab4ed-29be-4140-8792-54a190fc3875"
   },
   "outputs": [
    {
     "data": {
      "text/html": [
       "<div>\n",
       "<style scoped>\n",
       "    .dataframe tbody tr th:only-of-type {\n",
       "        vertical-align: middle;\n",
       "    }\n",
       "\n",
       "    .dataframe tbody tr th {\n",
       "        vertical-align: top;\n",
       "    }\n",
       "\n",
       "    .dataframe thead th {\n",
       "        text-align: right;\n",
       "    }\n",
       "</style>\n",
       "<table border=\"1\" class=\"dataframe\">\n",
       "  <thead>\n",
       "    <tr style=\"text-align: right;\">\n",
       "      <th></th>\n",
       "      <th>created_at</th>\n",
       "      <th>id</th>\n",
       "      <th>id_str</th>\n",
       "      <th>full_text</th>\n",
       "      <th>truncated</th>\n",
       "      <th>display_text_range</th>\n",
       "      <th>source</th>\n",
       "      <th>in_reply_to_status_id</th>\n",
       "      <th>in_reply_to_status_id_str</th>\n",
       "      <th>in_reply_to_user_id</th>\n",
       "      <th>...</th>\n",
       "      <th>place.id</th>\n",
       "      <th>place.url</th>\n",
       "      <th>place.place_type</th>\n",
       "      <th>place.name</th>\n",
       "      <th>place.full_name</th>\n",
       "      <th>place.country_code</th>\n",
       "      <th>place.country</th>\n",
       "      <th>place.contained_within</th>\n",
       "      <th>place.bounding_box.type</th>\n",
       "      <th>place.bounding_box.coordinates</th>\n",
       "    </tr>\n",
       "  </thead>\n",
       "  <tbody>\n",
       "    <tr>\n",
       "      <th>0</th>\n",
       "      <td>Mon Jul 31 00:18:03 +0000 2017</td>\n",
       "      <td>891815181378084864</td>\n",
       "      <td>891815181378084864</td>\n",
       "      <td>This is Archie. He is a rare Norwegian Pouncin...</td>\n",
       "      <td>False</td>\n",
       "      <td>[0, 121]</td>\n",
       "      <td>&lt;a href=\"http://twitter.com/download/iphone\" r...</td>\n",
       "      <td>None</td>\n",
       "      <td>None</td>\n",
       "      <td>None</td>\n",
       "      <td>...</td>\n",
       "      <td>NaN</td>\n",
       "      <td>NaN</td>\n",
       "      <td>NaN</td>\n",
       "      <td>NaN</td>\n",
       "      <td>NaN</td>\n",
       "      <td>NaN</td>\n",
       "      <td>NaN</td>\n",
       "      <td>NaN</td>\n",
       "      <td>NaN</td>\n",
       "      <td>NaN</td>\n",
       "    </tr>\n",
       "    <tr>\n",
       "      <th>0</th>\n",
       "      <td>Tue Aug 01 16:23:56 +0000 2017</td>\n",
       "      <td>892420643555336193</td>\n",
       "      <td>892420643555336193</td>\n",
       "      <td>This is Phineas. He's a mystical boy. Only eve...</td>\n",
       "      <td>False</td>\n",
       "      <td>[0, 85]</td>\n",
       "      <td>&lt;a href=\"http://twitter.com/download/iphone\" r...</td>\n",
       "      <td>None</td>\n",
       "      <td>None</td>\n",
       "      <td>None</td>\n",
       "      <td>...</td>\n",
       "      <td>NaN</td>\n",
       "      <td>NaN</td>\n",
       "      <td>NaN</td>\n",
       "      <td>NaN</td>\n",
       "      <td>NaN</td>\n",
       "      <td>NaN</td>\n",
       "      <td>NaN</td>\n",
       "      <td>NaN</td>\n",
       "      <td>NaN</td>\n",
       "      <td>NaN</td>\n",
       "    </tr>\n",
       "    <tr>\n",
       "      <th>0</th>\n",
       "      <td>Sat Jul 29 16:00:24 +0000 2017</td>\n",
       "      <td>891327558926688256</td>\n",
       "      <td>891327558926688256</td>\n",
       "      <td>This is Franklin. He would like you to stop ca...</td>\n",
       "      <td>False</td>\n",
       "      <td>[0, 138]</td>\n",
       "      <td>&lt;a href=\"http://twitter.com/download/iphone\" r...</td>\n",
       "      <td>None</td>\n",
       "      <td>None</td>\n",
       "      <td>None</td>\n",
       "      <td>...</td>\n",
       "      <td>NaN</td>\n",
       "      <td>NaN</td>\n",
       "      <td>NaN</td>\n",
       "      <td>NaN</td>\n",
       "      <td>NaN</td>\n",
       "      <td>NaN</td>\n",
       "      <td>NaN</td>\n",
       "      <td>NaN</td>\n",
       "      <td>NaN</td>\n",
       "      <td>NaN</td>\n",
       "    </tr>\n",
       "    <tr>\n",
       "      <th>0</th>\n",
       "      <td>Sun Jul 30 15:58:51 +0000 2017</td>\n",
       "      <td>891689557279858688</td>\n",
       "      <td>891689557279858688</td>\n",
       "      <td>This is Darla. She commenced a snooze mid meal...</td>\n",
       "      <td>False</td>\n",
       "      <td>[0, 79]</td>\n",
       "      <td>&lt;a href=\"http://twitter.com/download/iphone\" r...</td>\n",
       "      <td>None</td>\n",
       "      <td>None</td>\n",
       "      <td>None</td>\n",
       "      <td>...</td>\n",
       "      <td>NaN</td>\n",
       "      <td>NaN</td>\n",
       "      <td>NaN</td>\n",
       "      <td>NaN</td>\n",
       "      <td>NaN</td>\n",
       "      <td>NaN</td>\n",
       "      <td>NaN</td>\n",
       "      <td>NaN</td>\n",
       "      <td>NaN</td>\n",
       "      <td>NaN</td>\n",
       "    </tr>\n",
       "    <tr>\n",
       "      <th>0</th>\n",
       "      <td>Fri Jul 28 16:27:12 +0000 2017</td>\n",
       "      <td>890971913173991426</td>\n",
       "      <td>890971913173991426</td>\n",
       "      <td>Meet Jax. He enjoys ice cream so much he gets ...</td>\n",
       "      <td>False</td>\n",
       "      <td>[0, 140]</td>\n",
       "      <td>&lt;a href=\"http://twitter.com/download/iphone\" r...</td>\n",
       "      <td>None</td>\n",
       "      <td>None</td>\n",
       "      <td>None</td>\n",
       "      <td>...</td>\n",
       "      <td>NaN</td>\n",
       "      <td>NaN</td>\n",
       "      <td>NaN</td>\n",
       "      <td>NaN</td>\n",
       "      <td>NaN</td>\n",
       "      <td>NaN</td>\n",
       "      <td>NaN</td>\n",
       "      <td>NaN</td>\n",
       "      <td>NaN</td>\n",
       "      <td>NaN</td>\n",
       "    </tr>\n",
       "  </tbody>\n",
       "</table>\n",
       "<p>5 rows × 322 columns</p>\n",
       "</div>"
      ],
      "text/plain": [
       "                       created_at                  id              id_str  \\\n",
       "0  Mon Jul 31 00:18:03 +0000 2017  891815181378084864  891815181378084864   \n",
       "0  Tue Aug 01 16:23:56 +0000 2017  892420643555336193  892420643555336193   \n",
       "0  Sat Jul 29 16:00:24 +0000 2017  891327558926688256  891327558926688256   \n",
       "0  Sun Jul 30 15:58:51 +0000 2017  891689557279858688  891689557279858688   \n",
       "0  Fri Jul 28 16:27:12 +0000 2017  890971913173991426  890971913173991426   \n",
       "\n",
       "                                           full_text  truncated  \\\n",
       "0  This is Archie. He is a rare Norwegian Pouncin...      False   \n",
       "0  This is Phineas. He's a mystical boy. Only eve...      False   \n",
       "0  This is Franklin. He would like you to stop ca...      False   \n",
       "0  This is Darla. She commenced a snooze mid meal...      False   \n",
       "0  Meet Jax. He enjoys ice cream so much he gets ...      False   \n",
       "\n",
       "  display_text_range                                             source  \\\n",
       "0           [0, 121]  <a href=\"http://twitter.com/download/iphone\" r...   \n",
       "0            [0, 85]  <a href=\"http://twitter.com/download/iphone\" r...   \n",
       "0           [0, 138]  <a href=\"http://twitter.com/download/iphone\" r...   \n",
       "0            [0, 79]  <a href=\"http://twitter.com/download/iphone\" r...   \n",
       "0           [0, 140]  <a href=\"http://twitter.com/download/iphone\" r...   \n",
       "\n",
       "  in_reply_to_status_id in_reply_to_status_id_str in_reply_to_user_id  ...  \\\n",
       "0                  None                      None                None  ...   \n",
       "0                  None                      None                None  ...   \n",
       "0                  None                      None                None  ...   \n",
       "0                  None                      None                None  ...   \n",
       "0                  None                      None                None  ...   \n",
       "\n",
       "  place.id place.url place.place_type place.name place.full_name  \\\n",
       "0      NaN       NaN              NaN        NaN             NaN   \n",
       "0      NaN       NaN              NaN        NaN             NaN   \n",
       "0      NaN       NaN              NaN        NaN             NaN   \n",
       "0      NaN       NaN              NaN        NaN             NaN   \n",
       "0      NaN       NaN              NaN        NaN             NaN   \n",
       "\n",
       "  place.country_code  place.country  place.contained_within  \\\n",
       "0                NaN            NaN                     NaN   \n",
       "0                NaN            NaN                     NaN   \n",
       "0                NaN            NaN                     NaN   \n",
       "0                NaN            NaN                     NaN   \n",
       "0                NaN            NaN                     NaN   \n",
       "\n",
       "   place.bounding_box.type  place.bounding_box.coordinates  \n",
       "0                      NaN                             NaN  \n",
       "0                      NaN                             NaN  \n",
       "0                      NaN                             NaN  \n",
       "0                      NaN                             NaN  \n",
       "0                      NaN                             NaN  \n",
       "\n",
       "[5 rows x 322 columns]"
      ]
     },
     "execution_count": 15,
     "metadata": {},
     "output_type": "execute_result"
    }
   ],
   "source": [
    "df_all_tweet_info.head()"
   ]
  },
  {
   "cell_type": "code",
   "execution_count": 20,
   "id": "sOgfbMk_QrRd",
   "metadata": {
    "id": "sOgfbMk_QrRd"
   },
   "outputs": [],
   "source": [
    "df_retweet_favorite_info = df_all_tweet_info[['id','retweet_count', 'favorite_count']]"
   ]
  },
  {
   "cell_type": "code",
   "execution_count": 21,
   "id": "s8tpaM76jsWn",
   "metadata": {
    "colab": {
     "base_uri": "https://localhost:8080/"
    },
    "id": "s8tpaM76jsWn",
    "outputId": "c99b6045-9c7d-4a24-ce23-4437b67ee0f9"
   },
   "outputs": [
    {
     "data": {
      "text/plain": [
       "(2331, 3)"
      ]
     },
     "execution_count": 21,
     "metadata": {},
     "output_type": "execute_result"
    }
   ],
   "source": [
    "df_retweet_favorite_info.shape"
   ]
  },
  {
   "cell_type": "code",
   "execution_count": 22,
   "id": "ahoSM-VyOEj7",
   "metadata": {
    "colab": {
     "base_uri": "https://localhost:8080/"
    },
    "id": "ahoSM-VyOEj7",
    "outputId": "4000bf31-732b-48ab-d747-4cc6a7ecab67"
   },
   "outputs": [
    {
     "name": "stdout",
     "output_type": "stream",
     "text": [
      "<class 'pandas.core.frame.DataFrame'>\n",
      "Int64Index: 2331 entries, 0 to 0\n",
      "Data columns (total 3 columns):\n",
      " #   Column          Non-Null Count  Dtype\n",
      "---  ------          --------------  -----\n",
      " 0   id              2331 non-null   int64\n",
      " 1   retweet_count   2331 non-null   int64\n",
      " 2   favorite_count  2331 non-null   int64\n",
      "dtypes: int64(3)\n",
      "memory usage: 72.8 KB\n"
     ]
    }
   ],
   "source": [
    "df_retweet_favorite_info.info()"
   ]
  },
  {
   "cell_type": "code",
   "execution_count": 23,
   "id": "sQ7wAoI5i-bM",
   "metadata": {
    "colab": {
     "base_uri": "https://localhost:8080/",
     "height": 203
    },
    "id": "sQ7wAoI5i-bM",
    "outputId": "a9b98f78-a5a2-4448-e9f2-9d7b02b6d827"
   },
   "outputs": [
    {
     "data": {
      "text/html": [
       "<div>\n",
       "<style scoped>\n",
       "    .dataframe tbody tr th:only-of-type {\n",
       "        vertical-align: middle;\n",
       "    }\n",
       "\n",
       "    .dataframe tbody tr th {\n",
       "        vertical-align: top;\n",
       "    }\n",
       "\n",
       "    .dataframe thead th {\n",
       "        text-align: right;\n",
       "    }\n",
       "</style>\n",
       "<table border=\"1\" class=\"dataframe\">\n",
       "  <thead>\n",
       "    <tr style=\"text-align: right;\">\n",
       "      <th></th>\n",
       "      <th>id</th>\n",
       "      <th>retweet_count</th>\n",
       "      <th>favorite_count</th>\n",
       "    </tr>\n",
       "  </thead>\n",
       "  <tbody>\n",
       "    <tr>\n",
       "      <th>0</th>\n",
       "      <td>891815181378084864</td>\n",
       "      <td>3632</td>\n",
       "      <td>22828</td>\n",
       "    </tr>\n",
       "    <tr>\n",
       "      <th>0</th>\n",
       "      <td>892420643555336193</td>\n",
       "      <td>7372</td>\n",
       "      <td>35072</td>\n",
       "    </tr>\n",
       "    <tr>\n",
       "      <th>0</th>\n",
       "      <td>891327558926688256</td>\n",
       "      <td>8137</td>\n",
       "      <td>36622</td>\n",
       "    </tr>\n",
       "    <tr>\n",
       "      <th>0</th>\n",
       "      <td>891689557279858688</td>\n",
       "      <td>7550</td>\n",
       "      <td>38346</td>\n",
       "    </tr>\n",
       "    <tr>\n",
       "      <th>0</th>\n",
       "      <td>890971913173991426</td>\n",
       "      <td>1764</td>\n",
       "      <td>10743</td>\n",
       "    </tr>\n",
       "  </tbody>\n",
       "</table>\n",
       "</div>"
      ],
      "text/plain": [
       "                   id  retweet_count  favorite_count\n",
       "0  891815181378084864           3632           22828\n",
       "0  892420643555336193           7372           35072\n",
       "0  891327558926688256           8137           36622\n",
       "0  891689557279858688           7550           38346\n",
       "0  890971913173991426           1764           10743"
      ]
     },
     "execution_count": 23,
     "metadata": {},
     "output_type": "execute_result"
    }
   ],
   "source": [
    "df_retweet_favorite_info.head()"
   ]
  },
  {
   "cell_type": "markdown",
   "id": "oKIGffbyjB0e",
   "metadata": {
    "id": "oKIGffbyjB0e"
   },
   "source": [
    "## 2. Assess"
   ]
  },
  {
   "cell_type": "markdown",
   "id": "2ZsGquifE4FL",
   "metadata": {
    "id": "2ZsGquifE4FL"
   },
   "source": [
    "#### Quality Issues"
   ]
  },
  {
   "cell_type": "code",
   "execution_count": 24,
   "id": "dgGvuuzTvbgx",
   "metadata": {
    "colab": {
     "base_uri": "https://localhost:8080/"
    },
    "id": "dgGvuuzTvbgx",
    "outputId": "88665223-ba4f-492e-c460-a0f1acf0f9ea"
   },
   "outputs": [
    {
     "data": {
      "text/plain": [
       "None           745\n",
       "a               55\n",
       "Charlie         12\n",
       "Lucy            11\n",
       "Cooper          11\n",
       "              ... \n",
       "Taz              1\n",
       "Shakespeare      1\n",
       "Lance            1\n",
       "Laela            1\n",
       "Alf              1\n",
       "Name: name, Length: 957, dtype: int64"
      ]
     },
     "execution_count": 24,
     "metadata": {},
     "output_type": "execute_result"
    }
   ],
   "source": [
    "df_twitter_archive['name'].value_counts()"
   ]
  },
  {
   "cell_type": "code",
   "execution_count": 25,
   "id": "2RSbxeKvzAAC",
   "metadata": {
    "colab": {
     "base_uri": "https://localhost:8080/"
    },
    "id": "2RSbxeKvzAAC",
    "outputId": "c170edbb-3e07-467b-b571-0d51996dcd75"
   },
   "outputs": [
    {
     "data": {
      "text/plain": [
       "a     55\n",
       "Bo     9\n",
       "an     7\n",
       "by     1\n",
       "Mo     1\n",
       "JD     1\n",
       "O      1\n",
       "Al     1\n",
       "my     1\n",
       "Jo     1\n",
       "Ed     1\n",
       "Name: name, dtype: int64"
      ]
     },
     "execution_count": 25,
     "metadata": {},
     "output_type": "execute_result"
    }
   ],
   "source": [
    "df_twitter_archive[df_twitter_archive['name'].str.len() < 3]['name'].value_counts()"
   ]
  },
  {
   "cell_type": "markdown",
   "id": "LzHpytbXym0_",
   "metadata": {
    "id": "LzHpytbXym0_"
   },
   "source": [
    "> 1. We found some problems in dog names such as: 'None', 'a', 'an', 'all' and 'my'."
   ]
  },
  {
   "cell_type": "markdown",
   "id": "fqBqYRhlXmFe",
   "metadata": {
    "id": "fqBqYRhlXmFe"
   },
   "source": [
    "> 2. After visual inspecting we found the following problems in rating_rumerator:\n",
    "\n",
    "<ul>\n",
    "<li>\n",
    "45 - This is Bella. She hopes her smile made you smile. If not, she is also offering you her favorite monkey. 13.5/10 https://t.co/qjrljjt948\n",
    "</li>\n",
    "<li>\n",
    "784 - RT @dog_rates: After so many requests, this is Bretagne. She was the last surviving 9/11 search dog, and our second ever 14/10. RIP https:/…\n",
    "</li>\n",
    "<li>\n",
    "1068 - After so many requests, this is Bretagne. She was the last surviving 9/11 search dog, and our second ever 14/10. RIP https://t.co/XAVDNDaVgQ\n",
    "</li>\n",
    "</ul>"
   ]
  },
  {
   "cell_type": "markdown",
   "id": "WntnLowUTYGp",
   "metadata": {
    "id": "WntnLowUTYGp"
   },
   "source": [
    "> 3. After visual inspecting, we found the following problems in rating_denominator:\n",
    "<ul>\n",
    "<li>\n",
    "342 - @docmisterio account started on 11/15/15\n",
    "</li>\n",
    "<li>\n",
    "784 - RT @dog_rates: After so many requests, this is Bretagne. She was the last surviving 9/11 search dog, and our second ever 14/10. RIP https:/…\n",
    "</li>\n",
    "<li>\n",
    "1068 - After so many requests, this is Bretagne. She was the last surviving 9/11 search dog, and our second ever 14/10. RIP https://t.co/XAVDNDaVgQ\n",
    "</li>\n",
    "<li>\n",
    "1662 - This is Darrel. He just robbed a 7/11 and is in a high speed police chase. Was just spotted by the helicopter 10/10 https://t.co/7EsP8LmSp5\n",
    "</li>\n",
    "</ul>"
   ]
  },
  {
   "cell_type": "code",
   "execution_count": 26,
   "id": "ZVDpHOzoZ1Gc",
   "metadata": {
    "colab": {
     "base_uri": "https://localhost:8080/"
    },
    "id": "ZVDpHOzoZ1Gc",
    "outputId": "402dc635-bfb8-4ea2-8583-0bf059e9e332"
   },
   "outputs": [
    {
     "data": {
      "text/plain": [
       "(181, 17)"
      ]
     },
     "execution_count": 26,
     "metadata": {},
     "output_type": "execute_result"
    }
   ],
   "source": [
    "df_twitter_archive[df_twitter_archive[['retweeted_status_id', 'retweeted_status_user_id',\t'retweeted_status_timestamp']].notna().any(axis=1)].shape"
   ]
  },
  {
   "cell_type": "markdown",
   "id": "bwDKsfWMbFh7",
   "metadata": {
    "id": "bwDKsfWMbFh7"
   },
   "source": [
    "> 4. Programatically, we identified 181 <strong>retweets</strong> that should be excluded from the database."
   ]
  },
  {
   "cell_type": "code",
   "execution_count": 27,
   "id": "xHk893aHaCwh",
   "metadata": {
    "colab": {
     "base_uri": "https://localhost:8080/"
    },
    "id": "xHk893aHaCwh",
    "outputId": "0edf393b-f366-4369-be3d-6d77ee557a98"
   },
   "outputs": [
    {
     "data": {
      "text/plain": [
       "(78, 17)"
      ]
     },
     "execution_count": 27,
     "metadata": {},
     "output_type": "execute_result"
    }
   ],
   "source": [
    "df_twitter_archive[df_twitter_archive[['in_reply_to_status_id', 'in_reply_to_user_id']].notna().any(axis=1)].shape"
   ]
  },
  {
   "cell_type": "markdown",
   "id": "hqhy2DwC5BkP",
   "metadata": {
    "id": "hqhy2DwC5BkP"
   },
   "source": [
    "> 5. Programatically, we identified 78 <strong>replies</strong> that should be excluded from the database."
   ]
  },
  {
   "cell_type": "code",
   "execution_count": 28,
   "id": "6ImQNH6FRAEd",
   "metadata": {
    "colab": {
     "base_uri": "https://localhost:8080/"
    },
    "id": "6ImQNH6FRAEd",
    "outputId": "1e8d4528-f16c-4dd0-fabc-888c513a98aa"
   },
   "outputs": [
    {
     "data": {
      "text/plain": [
       "dtype('O')"
      ]
     },
     "execution_count": 28,
     "metadata": {},
     "output_type": "execute_result"
    }
   ],
   "source": [
    "df_twitter_archive['timestamp'].dtype"
   ]
  },
  {
   "cell_type": "markdown",
   "id": "nzsMYQ0m5aj1",
   "metadata": {
    "id": "nzsMYQ0m5aj1"
   },
   "source": [
    "> 6. Programatically, we identified that the timestamp columns is with incorrect data type."
   ]
  },
  {
   "cell_type": "code",
   "execution_count": 29,
   "id": "A9WfXyUuxn2-",
   "metadata": {
    "colab": {
     "base_uri": "https://localhost:8080/"
    },
    "id": "A9WfXyUuxn2-",
    "outputId": "7b5ca8d4-6a4b-4d85-ebe8-582979f03738"
   },
   "outputs": [
    {
     "data": {
      "text/plain": [
       "True     2075\n",
       "False     281\n",
       "Name: tweet_id, dtype: int64"
      ]
     },
     "execution_count": 29,
     "metadata": {},
     "output_type": "execute_result"
    }
   ],
   "source": [
    "df_twitter_archive['tweet_id'].isin(list(df_image_predictions['tweet_id'])).value_counts()"
   ]
  },
  {
   "cell_type": "markdown",
   "id": "DbeT3bru9bA9",
   "metadata": {
    "id": "DbeT3bru9bA9"
   },
   "source": [
    "> 7. Programatically, we identified that 281 observations don't have corresponding image."
   ]
  },
  {
   "cell_type": "code",
   "execution_count": 30,
   "id": "HEmp6y_EpZ3Q",
   "metadata": {
    "colab": {
     "base_uri": "https://localhost:8080/",
     "height": 581
    },
    "id": "HEmp6y_EpZ3Q",
    "outputId": "8ad65466-0f92-4767-87dc-7020b29de6f9"
   },
   "outputs": [
    {
     "data": {
      "text/html": [
       "<div>\n",
       "<style scoped>\n",
       "    .dataframe tbody tr th:only-of-type {\n",
       "        vertical-align: middle;\n",
       "    }\n",
       "\n",
       "    .dataframe tbody tr th {\n",
       "        vertical-align: top;\n",
       "    }\n",
       "\n",
       "    .dataframe thead th {\n",
       "        text-align: right;\n",
       "    }\n",
       "</style>\n",
       "<table border=\"1\" class=\"dataframe\">\n",
       "  <thead>\n",
       "    <tr style=\"text-align: right;\">\n",
       "      <th></th>\n",
       "      <th>tweet_id</th>\n",
       "      <th>in_reply_to_status_id</th>\n",
       "      <th>in_reply_to_user_id</th>\n",
       "      <th>timestamp</th>\n",
       "      <th>source</th>\n",
       "      <th>text</th>\n",
       "      <th>retweeted_status_id</th>\n",
       "      <th>retweeted_status_user_id</th>\n",
       "      <th>retweeted_status_timestamp</th>\n",
       "      <th>expanded_urls</th>\n",
       "      <th>rating_numerator</th>\n",
       "      <th>rating_denominator</th>\n",
       "      <th>name</th>\n",
       "      <th>doggo</th>\n",
       "      <th>floofer</th>\n",
       "      <th>pupper</th>\n",
       "      <th>puppo</th>\n",
       "    </tr>\n",
       "  </thead>\n",
       "  <tbody>\n",
       "    <tr>\n",
       "      <th>0</th>\n",
       "      <td>892420643555336193</td>\n",
       "      <td>NaN</td>\n",
       "      <td>NaN</td>\n",
       "      <td>2017-08-01 16:23:56 +0000</td>\n",
       "      <td>&lt;a href=\"http://twitter.com/download/iphone\" r...</td>\n",
       "      <td>This is Phineas. He's a mystical boy. Only eve...</td>\n",
       "      <td>NaN</td>\n",
       "      <td>NaN</td>\n",
       "      <td>NaN</td>\n",
       "      <td>https://twitter.com/dog_rates/status/892420643...</td>\n",
       "      <td>13</td>\n",
       "      <td>10</td>\n",
       "      <td>Phineas</td>\n",
       "      <td>None</td>\n",
       "      <td>None</td>\n",
       "      <td>None</td>\n",
       "      <td>None</td>\n",
       "    </tr>\n",
       "    <tr>\n",
       "      <th>1</th>\n",
       "      <td>892177421306343426</td>\n",
       "      <td>NaN</td>\n",
       "      <td>NaN</td>\n",
       "      <td>2017-08-01 00:17:27 +0000</td>\n",
       "      <td>&lt;a href=\"http://twitter.com/download/iphone\" r...</td>\n",
       "      <td>This is Tilly. She's just checking pup on you....</td>\n",
       "      <td>NaN</td>\n",
       "      <td>NaN</td>\n",
       "      <td>NaN</td>\n",
       "      <td>https://twitter.com/dog_rates/status/892177421...</td>\n",
       "      <td>13</td>\n",
       "      <td>10</td>\n",
       "      <td>Tilly</td>\n",
       "      <td>None</td>\n",
       "      <td>None</td>\n",
       "      <td>None</td>\n",
       "      <td>None</td>\n",
       "    </tr>\n",
       "    <tr>\n",
       "      <th>2</th>\n",
       "      <td>891815181378084864</td>\n",
       "      <td>NaN</td>\n",
       "      <td>NaN</td>\n",
       "      <td>2017-07-31 00:18:03 +0000</td>\n",
       "      <td>&lt;a href=\"http://twitter.com/download/iphone\" r...</td>\n",
       "      <td>This is Archie. He is a rare Norwegian Pouncin...</td>\n",
       "      <td>NaN</td>\n",
       "      <td>NaN</td>\n",
       "      <td>NaN</td>\n",
       "      <td>https://twitter.com/dog_rates/status/891815181...</td>\n",
       "      <td>12</td>\n",
       "      <td>10</td>\n",
       "      <td>Archie</td>\n",
       "      <td>None</td>\n",
       "      <td>None</td>\n",
       "      <td>None</td>\n",
       "      <td>None</td>\n",
       "    </tr>\n",
       "    <tr>\n",
       "      <th>3</th>\n",
       "      <td>891689557279858688</td>\n",
       "      <td>NaN</td>\n",
       "      <td>NaN</td>\n",
       "      <td>2017-07-30 15:58:51 +0000</td>\n",
       "      <td>&lt;a href=\"http://twitter.com/download/iphone\" r...</td>\n",
       "      <td>This is Darla. She commenced a snooze mid meal...</td>\n",
       "      <td>NaN</td>\n",
       "      <td>NaN</td>\n",
       "      <td>NaN</td>\n",
       "      <td>https://twitter.com/dog_rates/status/891689557...</td>\n",
       "      <td>13</td>\n",
       "      <td>10</td>\n",
       "      <td>Darla</td>\n",
       "      <td>None</td>\n",
       "      <td>None</td>\n",
       "      <td>None</td>\n",
       "      <td>None</td>\n",
       "    </tr>\n",
       "    <tr>\n",
       "      <th>4</th>\n",
       "      <td>891327558926688256</td>\n",
       "      <td>NaN</td>\n",
       "      <td>NaN</td>\n",
       "      <td>2017-07-29 16:00:24 +0000</td>\n",
       "      <td>&lt;a href=\"http://twitter.com/download/iphone\" r...</td>\n",
       "      <td>This is Franklin. He would like you to stop ca...</td>\n",
       "      <td>NaN</td>\n",
       "      <td>NaN</td>\n",
       "      <td>NaN</td>\n",
       "      <td>https://twitter.com/dog_rates/status/891327558...</td>\n",
       "      <td>12</td>\n",
       "      <td>10</td>\n",
       "      <td>Franklin</td>\n",
       "      <td>None</td>\n",
       "      <td>None</td>\n",
       "      <td>None</td>\n",
       "      <td>None</td>\n",
       "    </tr>\n",
       "  </tbody>\n",
       "</table>\n",
       "</div>"
      ],
      "text/plain": [
       "             tweet_id  in_reply_to_status_id  in_reply_to_user_id  \\\n",
       "0  892420643555336193                    NaN                  NaN   \n",
       "1  892177421306343426                    NaN                  NaN   \n",
       "2  891815181378084864                    NaN                  NaN   \n",
       "3  891689557279858688                    NaN                  NaN   \n",
       "4  891327558926688256                    NaN                  NaN   \n",
       "\n",
       "                   timestamp  \\\n",
       "0  2017-08-01 16:23:56 +0000   \n",
       "1  2017-08-01 00:17:27 +0000   \n",
       "2  2017-07-31 00:18:03 +0000   \n",
       "3  2017-07-30 15:58:51 +0000   \n",
       "4  2017-07-29 16:00:24 +0000   \n",
       "\n",
       "                                              source  \\\n",
       "0  <a href=\"http://twitter.com/download/iphone\" r...   \n",
       "1  <a href=\"http://twitter.com/download/iphone\" r...   \n",
       "2  <a href=\"http://twitter.com/download/iphone\" r...   \n",
       "3  <a href=\"http://twitter.com/download/iphone\" r...   \n",
       "4  <a href=\"http://twitter.com/download/iphone\" r...   \n",
       "\n",
       "                                                text  retweeted_status_id  \\\n",
       "0  This is Phineas. He's a mystical boy. Only eve...                  NaN   \n",
       "1  This is Tilly. She's just checking pup on you....                  NaN   \n",
       "2  This is Archie. He is a rare Norwegian Pouncin...                  NaN   \n",
       "3  This is Darla. She commenced a snooze mid meal...                  NaN   \n",
       "4  This is Franklin. He would like you to stop ca...                  NaN   \n",
       "\n",
       "   retweeted_status_user_id retweeted_status_timestamp  \\\n",
       "0                       NaN                        NaN   \n",
       "1                       NaN                        NaN   \n",
       "2                       NaN                        NaN   \n",
       "3                       NaN                        NaN   \n",
       "4                       NaN                        NaN   \n",
       "\n",
       "                                       expanded_urls  rating_numerator  \\\n",
       "0  https://twitter.com/dog_rates/status/892420643...                13   \n",
       "1  https://twitter.com/dog_rates/status/892177421...                13   \n",
       "2  https://twitter.com/dog_rates/status/891815181...                12   \n",
       "3  https://twitter.com/dog_rates/status/891689557...                13   \n",
       "4  https://twitter.com/dog_rates/status/891327558...                12   \n",
       "\n",
       "   rating_denominator      name doggo floofer pupper puppo  \n",
       "0                  10   Phineas  None    None   None  None  \n",
       "1                  10     Tilly  None    None   None  None  \n",
       "2                  10    Archie  None    None   None  None  \n",
       "3                  10     Darla  None    None   None  None  \n",
       "4                  10  Franklin  None    None   None  None  "
      ]
     },
     "execution_count": 30,
     "metadata": {},
     "output_type": "execute_result"
    }
   ],
   "source": [
    "df_twitter_archive.head()"
   ]
  },
  {
   "cell_type": "markdown",
   "id": "V_EHhNVOFFRv",
   "metadata": {
    "id": "V_EHhNVOFFRv"
   },
   "source": [
    "> 8. The columns 'in_reply_to_status_id', 'in_reply_to_user_id', 'retweeted_status_id',\t'retweeted_status_user_id', 'retweeted_status_timestamp' are not relevant to our analysis and should be dropped."
   ]
  },
  {
   "cell_type": "code",
   "execution_count": 31,
   "id": "homeless-script",
   "metadata": {},
   "outputs": [
    {
     "data": {
      "text/html": [
       "<div>\n",
       "<style scoped>\n",
       "    .dataframe tbody tr th:only-of-type {\n",
       "        vertical-align: middle;\n",
       "    }\n",
       "\n",
       "    .dataframe tbody tr th {\n",
       "        vertical-align: top;\n",
       "    }\n",
       "\n",
       "    .dataframe thead th {\n",
       "        text-align: right;\n",
       "    }\n",
       "</style>\n",
       "<table border=\"1\" class=\"dataframe\">\n",
       "  <thead>\n",
       "    <tr style=\"text-align: right;\">\n",
       "      <th></th>\n",
       "      <th>p1</th>\n",
       "      <th>p2</th>\n",
       "      <th>p3</th>\n",
       "    </tr>\n",
       "  </thead>\n",
       "  <tbody>\n",
       "    <tr>\n",
       "      <th>0</th>\n",
       "      <td>Welsh_springer_spaniel</td>\n",
       "      <td>collie</td>\n",
       "      <td>Shetland_sheepdog</td>\n",
       "    </tr>\n",
       "    <tr>\n",
       "      <th>1</th>\n",
       "      <td>redbone</td>\n",
       "      <td>miniature_pinscher</td>\n",
       "      <td>Rhodesian_ridgeback</td>\n",
       "    </tr>\n",
       "    <tr>\n",
       "      <th>2</th>\n",
       "      <td>German_shepherd</td>\n",
       "      <td>malinois</td>\n",
       "      <td>bloodhound</td>\n",
       "    </tr>\n",
       "    <tr>\n",
       "      <th>3</th>\n",
       "      <td>Rhodesian_ridgeback</td>\n",
       "      <td>redbone</td>\n",
       "      <td>miniature_pinscher</td>\n",
       "    </tr>\n",
       "    <tr>\n",
       "      <th>4</th>\n",
       "      <td>miniature_pinscher</td>\n",
       "      <td>Rottweiler</td>\n",
       "      <td>Doberman</td>\n",
       "    </tr>\n",
       "  </tbody>\n",
       "</table>\n",
       "</div>"
      ],
      "text/plain": [
       "                       p1                  p2                   p3\n",
       "0  Welsh_springer_spaniel              collie    Shetland_sheepdog\n",
       "1                 redbone  miniature_pinscher  Rhodesian_ridgeback\n",
       "2         German_shepherd            malinois           bloodhound\n",
       "3     Rhodesian_ridgeback             redbone   miniature_pinscher\n",
       "4      miniature_pinscher          Rottweiler             Doberman"
      ]
     },
     "execution_count": 31,
     "metadata": {},
     "output_type": "execute_result"
    }
   ],
   "source": [
    "df_image_predictions[['p1', 'p2', 'p3']].head()"
   ]
  },
  {
   "cell_type": "markdown",
   "id": "signed-greeting",
   "metadata": {},
   "source": [
    "> 9. Dog types without letter case standard. Also using \"_\" as word separator."
   ]
  },
  {
   "cell_type": "markdown",
   "id": "bizhP1vTDxDQ",
   "metadata": {
    "id": "bizhP1vTDxDQ"
   },
   "source": [
    "#### Tidyness Issues"
   ]
  },
  {
   "cell_type": "markdown",
   "id": "XxJ0PlrVx4ey",
   "metadata": {
    "id": "XxJ0PlrVx4ey"
   },
   "source": [
    "> 1. All three DataFrames hold information about the same entity, therefore, it should be considered as a single DataFrame.\n",
    "> 2. The dog types are in four different columns, but the information could in fact be in only one."
   ]
  },
  {
   "cell_type": "markdown",
   "id": "_9-k5NLCzavZ",
   "metadata": {
    "id": "_9-k5NLCzavZ"
   },
   "source": [
    "## 3. Clean"
   ]
  },
  {
   "cell_type": "code",
   "execution_count": 32,
   "id": "FFeVgwm4GAbv",
   "metadata": {
    "id": "FFeVgwm4GAbv"
   },
   "outputs": [],
   "source": [
    "# merge the three DataFrames\n",
    "_ = pd.merge(df_twitter_archive, df_image_predictions, on='tweet_id', how='inner')\n",
    "df = pd.merge(_, df_retweet_favorite_info, left_on='tweet_id', right_on='id', how='inner')"
   ]
  },
  {
   "cell_type": "code",
   "execution_count": 33,
   "id": "Dgd2LY8L5Wv4",
   "metadata": {
    "id": "Dgd2LY8L5Wv4"
   },
   "outputs": [],
   "source": [
    "# extract the stage from the text\n",
    "df['stage'] = df['text'].str.extract('(doggo|floofer|pupper|puppo)', expand = True)"
   ]
  },
  {
   "cell_type": "code",
   "execution_count": 34,
   "id": "PjlCjZs89qeU",
   "metadata": {
    "id": "PjlCjZs89qeU"
   },
   "outputs": [],
   "source": [
    "# drop the separate stage columns\n",
    "df.drop(['doggo', 'floofer', 'pupper', 'puppo'], axis=1, inplace=True)"
   ]
  },
  {
   "cell_type": "code",
   "execution_count": 35,
   "id": "3-utGstvCwQU",
   "metadata": {
    "id": "3-utGstvCwQU"
   },
   "outputs": [],
   "source": [
    "# drop replier values\n",
    "idx = df[df[['in_reply_to_status_id', 'in_reply_to_user_id']].notna().any(axis=1)].index\n",
    "df.drop(idx, inplace=True)"
   ]
  },
  {
   "cell_type": "code",
   "execution_count": 36,
   "id": "fPsfbwYk-Zvw",
   "metadata": {
    "id": "fPsfbwYk-Zvw"
   },
   "outputs": [],
   "source": [
    "# drop the unecessary replier columns\n",
    "df.drop(['in_reply_to_status_id', 'in_reply_to_user_id'], axis=1, inplace=True)"
   ]
  },
  {
   "cell_type": "code",
   "execution_count": 37,
   "id": "WXgXUrL0CIGg",
   "metadata": {
    "id": "WXgXUrL0CIGg"
   },
   "outputs": [],
   "source": [
    "# drop retweet values\n",
    "idx = df[df[['retweeted_status_id', 'retweeted_status_user_id',\t'retweeted_status_timestamp']].notna().any(axis=1)].index\n",
    "df.drop(idx, inplace=True)"
   ]
  },
  {
   "cell_type": "code",
   "execution_count": 38,
   "id": "xm-r89W6CsiZ",
   "metadata": {
    "id": "xm-r89W6CsiZ"
   },
   "outputs": [],
   "source": [
    "# drop the unecessary retweet columns\n",
    "df.drop(['retweeted_status_id', 'retweeted_status_user_id', 'retweeted_status_timestamp'], axis=1, inplace=True)"
   ]
  },
  {
   "cell_type": "code",
   "execution_count": 39,
   "id": "r45fuP5v-t2d",
   "metadata": {
    "id": "r45fuP5v-t2d"
   },
   "outputs": [],
   "source": [
    "# convert the timestamp column to datetime\n",
    "df['timestamp'] = pd.to_datetime(df['timestamp'])"
   ]
  },
  {
   "cell_type": "code",
   "execution_count": 40,
   "id": "81GL4d6mQhO7",
   "metadata": {
    "id": "81GL4d6mQhO7"
   },
   "outputs": [],
   "source": [
    "# drop duplicated id column\n",
    "df.drop(['id'], axis='columns', inplace=True)"
   ]
  },
  {
   "cell_type": "code",
   "execution_count": 41,
   "id": "FGh8tmwLC9EB",
   "metadata": {
    "id": "FGh8tmwLC9EB"
   },
   "outputs": [],
   "source": [
    "# Fix data issues: 13/10 to 13.5/10\n",
    "idx = df['text'].str.contains('This is Bella. She hopes her smile made you smile. If not, she is also offering you her favorite monkey. 13.5/10')\n",
    "df.loc[idx, ['rating_numerator', 'rating_denominator']] = [13.5, 10]"
   ]
  },
  {
   "cell_type": "code",
   "execution_count": 42,
   "id": "x7vZddxtEj-Z",
   "metadata": {
    "id": "x7vZddxtEj-Z"
   },
   "outputs": [],
   "source": [
    "# Fix data issues: 9/11 to 14/10\n",
    "idx = df['text'].str.contains('After so many requests, this is Bretagne. She was the last surviving 9/11 search dog, and our second ever 14/10. RIP')\n",
    "df.loc[idx, ['rating_numerator', 'rating_denominator']] = [14, 10]"
   ]
  },
  {
   "cell_type": "code",
   "execution_count": 43,
   "id": "eK-t72DXE3JU",
   "metadata": {
    "id": "eK-t72DXE3JU"
   },
   "outputs": [],
   "source": [
    "# Fix data issues: 7/11 to 10/10\n",
    "idx = df['text'].str.contains('This is Darrel. He just robbed a 7/11 and is in a high speed police chase. Was just spotted by the helicopter 10/10')\n",
    "df.loc[idx, ['rating_numerator', 'rating_denominator']] = [10, 10]"
   ]
  },
  {
   "cell_type": "code",
   "execution_count": 44,
   "id": "legitimate-bookmark",
   "metadata": {},
   "outputs": [],
   "source": [
    "# Fix capitalization issues in dog breeds\n",
    "df['p1'] = df['p1'].str.replace('_', ' ').str.title()\n",
    "df['p2'] = df['p2'].str.replace('_', ' ').str.title()\n",
    "df['p3'] = df['p3'].str.replace('_', ' ').str.title()"
   ]
  },
  {
   "cell_type": "code",
   "execution_count": 45,
   "id": "7IJ7NvYqNTvC",
   "metadata": {
    "id": "7IJ7NvYqNTvC"
   },
   "outputs": [],
   "source": [
    "df.to_csv(\"twitter_archive_master.csv\")"
   ]
  },
  {
   "cell_type": "markdown",
   "id": "ZqMt2ZUPMADG",
   "metadata": {
    "id": "ZqMt2ZUPMADG"
   },
   "source": [
    "# Insights and Visualisations"
   ]
  },
  {
   "cell_type": "markdown",
   "id": "atomic-domain",
   "metadata": {},
   "source": [
    "> First, lets see what are the most common breeds:"
   ]
  },
  {
   "cell_type": "code",
   "execution_count": 46,
   "id": "future-numbers",
   "metadata": {},
   "outputs": [
    {
     "data": {
      "text/plain": [
       "Golden Retriever      137\n",
       "Labrador Retriever     92\n",
       "Pembroke               88\n",
       "Chihuahua              78\n",
       "Pug                    54\n",
       "Chow                   41\n",
       "Samoyed                39\n",
       "Pomeranian             38\n",
       "Toy Poodle             36\n",
       "Malamute               29\n",
       "Name: p1, dtype: int64"
      ]
     },
     "execution_count": 46,
     "metadata": {},
     "output_type": "execute_result"
    }
   ],
   "source": [
    "is_dog = df['p1_dog']==True\n",
    "df[is_dog]['p1'].value_counts().head(10)"
   ]
  },
  {
   "cell_type": "markdown",
   "id": "painted-somewhere",
   "metadata": {},
   "source": [
    "> Golden Retriever and Labrador Retriever are the two most common breeds in the dataset. But how \"likable\" are they compared to other breeds? Do people favorite more tweets if it is about a Golden Retriever? What about a Labrador Retriever?\n",
    " <br/>To answer these question we're going to use hypothesis testing on the `favorite_count` column.\n",
    " \n",
    "$$ H_0: \\mu_{favorite\\_breed} \\le \\mu_{favorite\\_all} $$\n",
    "$$ H_1: \\mu_{favorite\\_breed} \\gt \\mu_{favorite\\_all} $$"
   ]
  },
  {
   "cell_type": "code",
   "execution_count": 47,
   "id": "golden-causing",
   "metadata": {},
   "outputs": [],
   "source": [
    "# Create a function to do the \"likable test\"\n",
    "def test_breed_likeability(breed, pop_mean, alpha=0.05):\n",
    "    \"\"\" Test if the favorite mean count of the breed is equal to (or less than) the \n",
    "    given mean. \"\"\"\n",
    "\n",
    "    # calculate the mean, std and std_error statistics for Golden Retriver\n",
    "    n = df[df['p1']==breed].shape[0]\n",
    "    mu = df[df['p1']==breed]['favorite_count'].mean()\n",
    "    std = df[df['p1']==breed]['favorite_count'].std()\n",
    "    std_error = std/np.sqrt(n)\n",
    "\n",
    "    # calculate the t-statistic and the pvalue for Golden Retriver\n",
    "    t_statistic = (mu-pop_mean)/std_error\n",
    "    pvalue = 1 - stats.t.cdf(t_statistic, n-1)\n",
    "    t_statistic, pvalue\n",
    "    \n",
    "    if pvalue < alpha:\n",
    "        # Reject the Null Hypothesis\n",
    "        return(\"{} tweets are more likable than other tweets.\".format(breed))\n",
    "    else:\n",
    "        # Fail to Reject the Null Hypothesis\n",
    "        return(\"{} tweets are NOT more likable than other tweets.\".format(breed))"
   ]
  },
  {
   "cell_type": "code",
   "execution_count": 48,
   "id": "opposite-firewall",
   "metadata": {},
   "outputs": [
    {
     "name": "stdout",
     "output_type": "stream",
     "text": [
      "At the significance level o 0.05 we can state that:\n",
      "\n",
      "Golden Retriever tweets are more likable than other tweets.\n",
      "Labrador Retriever tweets are NOT more likable than other tweets.\n",
      "Pembroke tweets are more likable than other tweets.\n",
      "Chihuahua tweets are NOT more likable than other tweets.\n",
      "Pug tweets are NOT more likable than other tweets.\n",
      "Chow tweets are NOT more likable than other tweets.\n",
      "Samoyed tweets are more likable than other tweets.\n",
      "Pomeranian tweets are NOT more likable than other tweets.\n",
      "Toy Poodle tweets are NOT more likable than other tweets.\n"
     ]
    }
   ],
   "source": [
    "# Since we dont have enough samples for all breeds, we're testing only those breeds with at least 30 samples\n",
    "breeds = ['Golden Retriever', 'Labrador Retriever', 'Pembroke', 'Chihuahua', 'Pug',\n",
    "          'Chow', 'Samoyed', 'Pomeranian', 'Toy Poodle']\n",
    "\n",
    "alpha = 0.05\n",
    "print(\"At the significance level o {} we can state that:\\n\".format(alpha))\n",
    "for breed in breeds:\n",
    "    result = test_breed_likeability(breed, df['favorite_count'].mean(), alpha)\n",
    "    print(result)"
   ]
  },
  {
   "cell_type": "markdown",
   "id": "maritime-harbor",
   "metadata": {},
   "source": [
    "> Very interesting results. Golden Retriever, Pembroke and Samoyed are very likable dogs! <br/>But what can we say about how popular these breeds are? To \"measure\" that, we're going to do some hypothesis testing on the `retweet_count` column:\n",
    "\n",
    "$$ H_0: \\mu_{retweet\\_breed} \\le \\mu_{retweet\\_all} $$\n",
    "$$ H_1: \\mu_{retweet\\_breed} \\gt \\mu_{retweet\\_all} $$"
   ]
  },
  {
   "cell_type": "code",
   "execution_count": 49,
   "id": "alpine-yemen",
   "metadata": {},
   "outputs": [],
   "source": [
    "# Create a function to do the \"popularity test\"\n",
    "def test_breed_popularity(breed, pop_mean, alpha=0.05):\n",
    "    \"\"\" Test if the retweet mean count of the breed is equal to (or less than) the \n",
    "    given mean. \"\"\"\n",
    "\n",
    "    # calculate the mean, std and std_error statistics for Golden Retriver\n",
    "    n = df[df['p1']==breed].shape[0]\n",
    "    mu = df[df['p1']==breed]['retweet_count'].mean()\n",
    "    std = df[df['p1']==breed]['retweet_count'].std()\n",
    "    std_error = std/np.sqrt(n)\n",
    "\n",
    "    # calculate the t-statistic and the pvalue for Golden Retriver\n",
    "    t_statistic = (mu-pop_mean)/std_error\n",
    "    pvalue = 1 - stats.t.cdf(t_statistic, n-1)\n",
    "    t_statistic, pvalue\n",
    "    \n",
    "    if pvalue < alpha:\n",
    "        # Reject the Null Hypothesis\n",
    "        return(\"{} tweets are more popular than other tweets.\".format(breed))\n",
    "    else:\n",
    "        # Fail to Reject the Null Hypothesis\n",
    "        return(\"{} tweets are NOT more popular than other tweets.\".format(breed))"
   ]
  },
  {
   "cell_type": "code",
   "execution_count": 57,
   "id": "effective-perception",
   "metadata": {},
   "outputs": [
    {
     "name": "stdout",
     "output_type": "stream",
     "text": [
      "At the significance level of 0.05 we can state that:\n",
      "\n",
      "Golden Retriever tweets are more popular than other tweets.\n",
      "Labrador Retriever tweets are NOT more popular than other tweets.\n",
      "Pembroke tweets are NOT more popular than other tweets.\n",
      "Chihuahua tweets are NOT more popular than other tweets.\n",
      "Pug tweets are NOT more popular than other tweets.\n",
      "Chow tweets are NOT more popular than other tweets.\n",
      "Samoyed tweets are more popular than other tweets.\n",
      "Pomeranian tweets are NOT more popular than other tweets.\n",
      "Toy Poodle tweets are NOT more popular than other tweets.\n"
     ]
    }
   ],
   "source": [
    "# Since we dont have enough samples for all breeds, we're testing only those breeds with at least 30 samples\n",
    "breeds = ['Golden Retriever', 'Labrador Retriever', 'Pembroke', 'Chihuahua', 'Pug',\n",
    "          'Chow', 'Samoyed', 'Pomeranian', 'Toy Poodle']\n",
    "\n",
    "alpha = 0.05\n",
    "print(\"At the significance level of {} we can state that:\\n\".format(alpha))\n",
    "for breed in breeds:\n",
    "    result = test_breed_popularity(breed, df['retweet_count'].mean(), alpha)\n",
    "    print(result)"
   ]
  },
  {
   "cell_type": "markdown",
   "id": "prostate-fundamental",
   "metadata": {},
   "source": [
    "> Golden Retriever and Samoyed again showed up! Since these two breeds are both likable and popular, lets build a 95% confidence interval for the retweet and favorite count a tweet showing any of this would get."
   ]
  },
  {
   "cell_type": "code",
   "execution_count": 51,
   "id": "double-plain",
   "metadata": {},
   "outputs": [],
   "source": [
    "def get_95_ci(breed, column):\n",
    "    sample = df[df['p1']==breed][column]\n",
    "\n",
    "    boot_sample_means = []\n",
    "    for _ in range(int(1e4)):\n",
    "        boot_sample = sample.sample(sample.shape[0], replace=True)\n",
    "        boot_mean = boot_sample.mean()\n",
    "        boot_sample_means.append(boot_mean)\n",
    "\n",
    "    print (\"The 95% confidence interval for the {} {} is between {} and {}.\".format(\n",
    "           breed, column, int(np.quantile(boot_sample_means, .025)), int(np.quantile(boot_sample_means, .975))))"
   ]
  },
  {
   "cell_type": "code",
   "execution_count": 52,
   "id": "together-tolerance",
   "metadata": {},
   "outputs": [
    {
     "name": "stdout",
     "output_type": "stream",
     "text": [
      "The 95% confidence interval for the Golden Retriever retweet_count is between 2537 and 3808.\n",
      "The 95% confidence interval for the Golden Retriever favorite_count is between 9279 and 13270.\n"
     ]
    }
   ],
   "source": [
    "get_95_ci('Golden Retriever', 'retweet_count')\n",
    "get_95_ci('Golden Retriever', 'favorite_count')"
   ]
  },
  {
   "cell_type": "code",
   "execution_count": 53,
   "id": "cross-liabilities",
   "metadata": {},
   "outputs": [
    {
     "name": "stdout",
     "output_type": "stream",
     "text": [
      "The 95% confidence interval for the Samoyed retweet_count is between 2611 and 5119.\n",
      "The 95% confidence interval for the Samoyed favorite_count is between 8117 and 16168.\n"
     ]
    }
   ],
   "source": [
    "get_95_ci('Samoyed', 'retweet_count')\n",
    "get_95_ci('Samoyed', 'favorite_count')"
   ]
  },
  {
   "cell_type": "markdown",
   "id": "valuable-nutrition",
   "metadata": {},
   "source": [
    "> As the last part of this analysis, lets build a word cloud with the most significant words used by WeRateDogs tweets."
   ]
  },
  {
   "cell_type": "code",
   "execution_count": 54,
   "id": "coordinated-bridal",
   "metadata": {},
   "outputs": [],
   "source": [
    "%config InlineBackend.figure_format='retina'"
   ]
  },
  {
   "cell_type": "code",
   "execution_count": 61,
   "id": "educational-weather",
   "metadata": {},
   "outputs": [],
   "source": [
    "from wordcloud import WordCloud, STOPWORDS\n",
    "from PIL import Image\n",
    "\n",
    "def generate_dog_cloud():\n",
    "\n",
    "    # Concatenate all text from the `text` field\n",
    "    text = df.loc[:, 'text'].str.cat(sep=' ')\n",
    "\n",
    "    # Words to exclude from word cloud\n",
    "    stopwords = set(STOPWORDS)\n",
    "    words = ['https', 'tco', 't', 'h', 'p', 'co', 'af', 'meet', 'ckin']\n",
    "    for word in words:\n",
    "        stopwords.add(word)\n",
    "\n",
    "    # Instantiate word cloud object\n",
    "    wc = WordCloud(background_color='black', stopwords=stopwords,\n",
    "                  width=800, height=1200)\n",
    "\n",
    "    # Generate word cloud\n",
    "    wc.generate(text)\n",
    "\n",
    "    # Plot the image\n",
    "    plt.imshow(wc)\n",
    "    plt.axis('off')\n",
    "    plt.show()"
   ]
  },
  {
   "cell_type": "code",
   "execution_count": 62,
   "id": "recovered-ratio",
   "metadata": {},
   "outputs": [
    {
     "data": {
      "image/png": "[encoded data removed]",
      "text/plain": [
       "<Figure size 432x288 with 1 Axes>"
      ]
     },
     "metadata": {
      "image/png": {
       "height": 231,
       "width": 159
      },
      "needs_background": "light"
     },
     "output_type": "display_data"
    }
   ],
   "source": [
    "generate_dog_cloud()"
   ]
  },
  {
   "cell_type": "code",
   "execution_count": 60,
   "id": "adolescent-reproduction",
   "metadata": {},
   "outputs": [
    {
     "data": {
      "text/plain": [
       "Golden Retriever      9.41\n",
       "Labrador Retriever    6.32\n",
       "Pembroke              6.04\n",
       "Chihuahua             5.36\n",
       "Pug                   3.71\n",
       "Chow                  2.82\n",
       "Samoyed               2.68\n",
       "Pomeranian            2.61\n",
       "Toy Poodle            2.47\n",
       "Malamute              1.99\n",
       "Name: p1, dtype: float64"
      ]
     },
     "execution_count": 60,
     "metadata": {},
     "output_type": "execute_result"
    }
   ],
   "source": [
    "is_dog = df['p1_dog']==True\n",
    "(df[is_dog]['p1'].value_counts(normalize=True).head(10)*100).round(2)"
   ]
  },
  {
   "cell_type": "code",
   "execution_count": null,
   "id": "packed-tooth",
   "metadata": {},
   "outputs": [],
   "source": []
  }
 ],
 "metadata": {
  "colab": {
   "include_colab_link": true,
   "name": "wrangle_act.ipynb",
   "provenance": []
  },
  "kernelspec": {
   "display_name": "Python 3",
   "language": "python",
   "name": "python3"
  },
  "language_info": {
   "codemirror_mode": {
    "name": "ipython",
    "version": 3
   },
   "file_extension": ".py",
   "mimetype": "text/x-python",
   "name": "python",
   "nbconvert_exporter": "python",
   "pygments_lexer": "ipython3",
   "version": "3.8.8"
  }
 },
 "nbformat": 4,
 "nbformat_minor": 5
}
