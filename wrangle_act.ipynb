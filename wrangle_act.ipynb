{
  "nbformat": 4,
  "nbformat_minor": 5,
  "metadata": {
    "kernelspec": {
      "display_name": "Python 3",
      "language": "python",
      "name": "python3"
    },
    "language_info": {
      "codemirror_mode": {
        "name": "ipython",
        "version": 3
      },
      "file_extension": ".py",
      "mimetype": "text/x-python",
      "name": "python",
      "nbconvert_exporter": "python",
      "pygments_lexer": "ipython3",
      "version": "3.8.7"
    },
    "colab": {
      "name": "wrangle_act.ipynb",
      "provenance": [],
      "include_colab_link": true
    }
  },
  "cells": [
    {
      "cell_type": "markdown",
      "metadata": {
        "id": "view-in-github",
        "colab_type": "text"
      },
      "source": [
        "<a href=\"https://colab.research.google.com/github/thiagofuruchima/weratedogs_dsnd/blob/main/wrangle_act.ipynb\" target=\"_parent\"><img src=\"https://colab.research.google.com/assets/colab-badge.svg\" alt=\"Open In Colab\"/></a>"
      ]
    },
    {
      "cell_type": "code",
      "metadata": {
        "id": "occupied-tuesday"
      },
      "source": [
        "import requests\n",
        "import pandas as pd\n",
        "import json\n",
        "import time\n",
        "import tweepy\n",
        "from tweepy import TweepError\n",
        "from pandas.io.json import json_normalize"
      ],
      "id": "occupied-tuesday",
      "execution_count": 2,
      "outputs": []
    },
    {
      "cell_type": "markdown",
      "metadata": {
        "id": "representative-zimbabwe"
      },
      "source": [
        "## Data Wrangling Process\n",
        "<ol>\n",
        "    <li><strong> Gather; </strong></li>\n",
        "    <li><strong> Assess; </strong></li>\n",
        "    <li><strong> Clean. </strong></li>\n",
        "</ol>"
      ],
      "id": "representative-zimbabwe"
    },
    {
      "cell_type": "markdown",
      "metadata": {
        "id": "classified-sense"
      },
      "source": [
        "### 1. Gather the Data"
      ],
      "id": "classified-sense"
    },
    {
      "cell_type": "markdown",
      "metadata": {
        "id": "published-sellers"
      },
      "source": [
        "#### twitter-archive-enhanced.csv"
      ],
      "id": "published-sellers"
    },
    {
      "cell_type": "code",
      "metadata": {
        "id": "cathedral-cooling"
      },
      "source": [
        "df_twitter_archive = pd.read_csv(\"twitter-archive-enhanced.csv\", sep=',')"
      ],
      "id": "cathedral-cooling",
      "execution_count": 115,
      "outputs": []
    },
    {
      "cell_type": "code",
      "metadata": {
        "id": "sharing-camel",
        "colab": {
          "base_uri": "https://localhost:8080/"
        },
        "outputId": "19791870-2bd8-494c-8809-f0104c57bb36"
      },
      "source": [
        "df_twitter_archive.shape"
      ],
      "id": "sharing-camel",
      "execution_count": 4,
      "outputs": [
        {
          "output_type": "execute_result",
          "data": {
            "text/plain": [
              "(2356, 17)"
            ]
          },
          "metadata": {
            "tags": []
          },
          "execution_count": 4
        }
      ]
    },
    {
      "cell_type": "code",
      "metadata": {
        "id": "overall-amendment",
        "colab": {
          "base_uri": "https://localhost:8080/"
        },
        "outputId": "8fad4986-c202-4bed-eaf4-7c5028779801"
      },
      "source": [
        "df_twitter_archive.info()"
      ],
      "id": "overall-amendment",
      "execution_count": 5,
      "outputs": [
        {
          "output_type": "stream",
          "text": [
            "<class 'pandas.core.frame.DataFrame'>\n",
            "RangeIndex: 2356 entries, 0 to 2355\n",
            "Data columns (total 17 columns):\n",
            " #   Column                      Non-Null Count  Dtype  \n",
            "---  ------                      --------------  -----  \n",
            " 0   tweet_id                    2356 non-null   int64  \n",
            " 1   in_reply_to_status_id       78 non-null     float64\n",
            " 2   in_reply_to_user_id         78 non-null     float64\n",
            " 3   timestamp                   2356 non-null   object \n",
            " 4   source                      2356 non-null   object \n",
            " 5   text                        2356 non-null   object \n",
            " 6   retweeted_status_id         181 non-null    float64\n",
            " 7   retweeted_status_user_id    181 non-null    float64\n",
            " 8   retweeted_status_timestamp  181 non-null    object \n",
            " 9   expanded_urls               2297 non-null   object \n",
            " 10  rating_numerator            2356 non-null   int64  \n",
            " 11  rating_denominator          2356 non-null   int64  \n",
            " 12  name                        2356 non-null   object \n",
            " 13  doggo                       2356 non-null   object \n",
            " 14  floofer                     2356 non-null   object \n",
            " 15  pupper                      2356 non-null   object \n",
            " 16  puppo                       2356 non-null   object \n",
            "dtypes: float64(4), int64(3), object(10)\n",
            "memory usage: 313.0+ KB\n"
          ],
          "name": "stdout"
        }
      ]
    },
    {
      "cell_type": "code",
      "metadata": {
        "id": "chinese-treasury",
        "colab": {
          "base_uri": "https://localhost:8080/",
          "height": 581
        },
        "outputId": "3f4e73b1-3ff9-430b-fc05-e233959c2666"
      },
      "source": [
        "df_twitter_archive.head()"
      ],
      "id": "chinese-treasury",
      "execution_count": 6,
      "outputs": [
        {
          "output_type": "execute_result",
          "data": {
            "text/html": [
              "<div>\n",
              "<style scoped>\n",
              "    .dataframe tbody tr th:only-of-type {\n",
              "        vertical-align: middle;\n",
              "    }\n",
              "\n",
              "    .dataframe tbody tr th {\n",
              "        vertical-align: top;\n",
              "    }\n",
              "\n",
              "    .dataframe thead th {\n",
              "        text-align: right;\n",
              "    }\n",
              "</style>\n",
              "<table border=\"1\" class=\"dataframe\">\n",
              "  <thead>\n",
              "    <tr style=\"text-align: right;\">\n",
              "      <th></th>\n",
              "      <th>tweet_id</th>\n",
              "      <th>in_reply_to_status_id</th>\n",
              "      <th>in_reply_to_user_id</th>\n",
              "      <th>timestamp</th>\n",
              "      <th>source</th>\n",
              "      <th>text</th>\n",
              "      <th>retweeted_status_id</th>\n",
              "      <th>retweeted_status_user_id</th>\n",
              "      <th>retweeted_status_timestamp</th>\n",
              "      <th>expanded_urls</th>\n",
              "      <th>rating_numerator</th>\n",
              "      <th>rating_denominator</th>\n",
              "      <th>name</th>\n",
              "      <th>doggo</th>\n",
              "      <th>floofer</th>\n",
              "      <th>pupper</th>\n",
              "      <th>puppo</th>\n",
              "    </tr>\n",
              "  </thead>\n",
              "  <tbody>\n",
              "    <tr>\n",
              "      <th>0</th>\n",
              "      <td>892420643555336193</td>\n",
              "      <td>NaN</td>\n",
              "      <td>NaN</td>\n",
              "      <td>2017-08-01 16:23:56 +0000</td>\n",
              "      <td>&lt;a href=\"http://twitter.com/download/iphone\" r...</td>\n",
              "      <td>This is Phineas. He's a mystical boy. Only eve...</td>\n",
              "      <td>NaN</td>\n",
              "      <td>NaN</td>\n",
              "      <td>NaN</td>\n",
              "      <td>https://twitter.com/dog_rates/status/892420643...</td>\n",
              "      <td>13</td>\n",
              "      <td>10</td>\n",
              "      <td>Phineas</td>\n",
              "      <td>None</td>\n",
              "      <td>None</td>\n",
              "      <td>None</td>\n",
              "      <td>None</td>\n",
              "    </tr>\n",
              "    <tr>\n",
              "      <th>1</th>\n",
              "      <td>892177421306343426</td>\n",
              "      <td>NaN</td>\n",
              "      <td>NaN</td>\n",
              "      <td>2017-08-01 00:17:27 +0000</td>\n",
              "      <td>&lt;a href=\"http://twitter.com/download/iphone\" r...</td>\n",
              "      <td>This is Tilly. She's just checking pup on you....</td>\n",
              "      <td>NaN</td>\n",
              "      <td>NaN</td>\n",
              "      <td>NaN</td>\n",
              "      <td>https://twitter.com/dog_rates/status/892177421...</td>\n",
              "      <td>13</td>\n",
              "      <td>10</td>\n",
              "      <td>Tilly</td>\n",
              "      <td>None</td>\n",
              "      <td>None</td>\n",
              "      <td>None</td>\n",
              "      <td>None</td>\n",
              "    </tr>\n",
              "    <tr>\n",
              "      <th>2</th>\n",
              "      <td>891815181378084864</td>\n",
              "      <td>NaN</td>\n",
              "      <td>NaN</td>\n",
              "      <td>2017-07-31 00:18:03 +0000</td>\n",
              "      <td>&lt;a href=\"http://twitter.com/download/iphone\" r...</td>\n",
              "      <td>This is Archie. He is a rare Norwegian Pouncin...</td>\n",
              "      <td>NaN</td>\n",
              "      <td>NaN</td>\n",
              "      <td>NaN</td>\n",
              "      <td>https://twitter.com/dog_rates/status/891815181...</td>\n",
              "      <td>12</td>\n",
              "      <td>10</td>\n",
              "      <td>Archie</td>\n",
              "      <td>None</td>\n",
              "      <td>None</td>\n",
              "      <td>None</td>\n",
              "      <td>None</td>\n",
              "    </tr>\n",
              "    <tr>\n",
              "      <th>3</th>\n",
              "      <td>891689557279858688</td>\n",
              "      <td>NaN</td>\n",
              "      <td>NaN</td>\n",
              "      <td>2017-07-30 15:58:51 +0000</td>\n",
              "      <td>&lt;a href=\"http://twitter.com/download/iphone\" r...</td>\n",
              "      <td>This is Darla. She commenced a snooze mid meal...</td>\n",
              "      <td>NaN</td>\n",
              "      <td>NaN</td>\n",
              "      <td>NaN</td>\n",
              "      <td>https://twitter.com/dog_rates/status/891689557...</td>\n",
              "      <td>13</td>\n",
              "      <td>10</td>\n",
              "      <td>Darla</td>\n",
              "      <td>None</td>\n",
              "      <td>None</td>\n",
              "      <td>None</td>\n",
              "      <td>None</td>\n",
              "    </tr>\n",
              "    <tr>\n",
              "      <th>4</th>\n",
              "      <td>891327558926688256</td>\n",
              "      <td>NaN</td>\n",
              "      <td>NaN</td>\n",
              "      <td>2017-07-29 16:00:24 +0000</td>\n",
              "      <td>&lt;a href=\"http://twitter.com/download/iphone\" r...</td>\n",
              "      <td>This is Franklin. He would like you to stop ca...</td>\n",
              "      <td>NaN</td>\n",
              "      <td>NaN</td>\n",
              "      <td>NaN</td>\n",
              "      <td>https://twitter.com/dog_rates/status/891327558...</td>\n",
              "      <td>12</td>\n",
              "      <td>10</td>\n",
              "      <td>Franklin</td>\n",
              "      <td>None</td>\n",
              "      <td>None</td>\n",
              "      <td>None</td>\n",
              "      <td>None</td>\n",
              "    </tr>\n",
              "  </tbody>\n",
              "</table>\n",
              "</div>"
            ],
            "text/plain": [
              "             tweet_id  in_reply_to_status_id  ...  pupper puppo\n",
              "0  892420643555336193                    NaN  ...    None  None\n",
              "1  892177421306343426                    NaN  ...    None  None\n",
              "2  891815181378084864                    NaN  ...    None  None\n",
              "3  891689557279858688                    NaN  ...    None  None\n",
              "4  891327558926688256                    NaN  ...    None  None\n",
              "\n",
              "[5 rows x 17 columns]"
            ]
          },
          "metadata": {
            "tags": []
          },
          "execution_count": 6
        }
      ]
    },
    {
      "cell_type": "markdown",
      "metadata": {
        "id": "surgical-prescription"
      },
      "source": [
        "#### image-predictions.tsv"
      ],
      "id": "surgical-prescription"
    },
    {
      "cell_type": "code",
      "metadata": {
        "id": "chief-weekend"
      },
      "source": [
        "url = 'https://d17h27t6h515a5.cloudfront.net/topher/2017/August/599fd2ad_image-predictions/image-predictions.tsv'"
      ],
      "id": "chief-weekend",
      "execution_count": null,
      "outputs": []
    },
    {
      "cell_type": "code",
      "metadata": {
        "id": "respected-priority"
      },
      "source": [
        "response = requests.get(url)\n",
        "if (response.status_code==200):\n",
        "    with open('image-predictions.tsv', 'wb') as file:\n",
        "        file.write(response.content)"
      ],
      "id": "respected-priority",
      "execution_count": null,
      "outputs": []
    },
    {
      "cell_type": "code",
      "metadata": {
        "id": "identical-cradle"
      },
      "source": [
        "df_image_predictions = pd.read_csv('image-predictions.tsv', sep='\\t')"
      ],
      "id": "identical-cradle",
      "execution_count": 7,
      "outputs": []
    },
    {
      "cell_type": "code",
      "metadata": {
        "id": "final-spread",
        "colab": {
          "base_uri": "https://localhost:8080/"
        },
        "outputId": "a5e75bb9-6273-4040-ca65-0885c09f59f4"
      },
      "source": [
        "df_image_predictions.shape"
      ],
      "id": "final-spread",
      "execution_count": 8,
      "outputs": [
        {
          "output_type": "execute_result",
          "data": {
            "text/plain": [
              "(2075, 12)"
            ]
          },
          "metadata": {
            "tags": []
          },
          "execution_count": 8
        }
      ]
    },
    {
      "cell_type": "code",
      "metadata": {
        "id": "biblical-anxiety",
        "colab": {
          "base_uri": "https://localhost:8080/"
        },
        "outputId": "878ee2ac-d492-4139-e74a-d1594b76bbfc"
      },
      "source": [
        "df_image_predictions.info()"
      ],
      "id": "biblical-anxiety",
      "execution_count": 9,
      "outputs": [
        {
          "output_type": "stream",
          "text": [
            "<class 'pandas.core.frame.DataFrame'>\n",
            "RangeIndex: 2075 entries, 0 to 2074\n",
            "Data columns (total 12 columns):\n",
            " #   Column    Non-Null Count  Dtype  \n",
            "---  ------    --------------  -----  \n",
            " 0   tweet_id  2075 non-null   int64  \n",
            " 1   jpg_url   2075 non-null   object \n",
            " 2   img_num   2075 non-null   int64  \n",
            " 3   p1        2075 non-null   object \n",
            " 4   p1_conf   2075 non-null   float64\n",
            " 5   p1_dog    2075 non-null   bool   \n",
            " 6   p2        2075 non-null   object \n",
            " 7   p2_conf   2075 non-null   float64\n",
            " 8   p2_dog    2075 non-null   bool   \n",
            " 9   p3        2075 non-null   object \n",
            " 10  p3_conf   2075 non-null   float64\n",
            " 11  p3_dog    2075 non-null   bool   \n",
            "dtypes: bool(3), float64(3), int64(2), object(4)\n",
            "memory usage: 152.1+ KB\n"
          ],
          "name": "stdout"
        }
      ]
    },
    {
      "cell_type": "code",
      "metadata": {
        "id": "promotional-durham",
        "colab": {
          "base_uri": "https://localhost:8080/",
          "height": 223
        },
        "outputId": "21a1e24e-45df-477c-f3a8-a7d587a09f7e"
      },
      "source": [
        "df_image_predictions.head()"
      ],
      "id": "promotional-durham",
      "execution_count": 10,
      "outputs": [
        {
          "output_type": "execute_result",
          "data": {
            "text/html": [
              "<div>\n",
              "<style scoped>\n",
              "    .dataframe tbody tr th:only-of-type {\n",
              "        vertical-align: middle;\n",
              "    }\n",
              "\n",
              "    .dataframe tbody tr th {\n",
              "        vertical-align: top;\n",
              "    }\n",
              "\n",
              "    .dataframe thead th {\n",
              "        text-align: right;\n",
              "    }\n",
              "</style>\n",
              "<table border=\"1\" class=\"dataframe\">\n",
              "  <thead>\n",
              "    <tr style=\"text-align: right;\">\n",
              "      <th></th>\n",
              "      <th>tweet_id</th>\n",
              "      <th>jpg_url</th>\n",
              "      <th>img_num</th>\n",
              "      <th>p1</th>\n",
              "      <th>p1_conf</th>\n",
              "      <th>p1_dog</th>\n",
              "      <th>p2</th>\n",
              "      <th>p2_conf</th>\n",
              "      <th>p2_dog</th>\n",
              "      <th>p3</th>\n",
              "      <th>p3_conf</th>\n",
              "      <th>p3_dog</th>\n",
              "    </tr>\n",
              "  </thead>\n",
              "  <tbody>\n",
              "    <tr>\n",
              "      <th>0</th>\n",
              "      <td>666020888022790149</td>\n",
              "      <td>https://pbs.twimg.com/media/CT4udn0WwAA0aMy.jpg</td>\n",
              "      <td>1</td>\n",
              "      <td>Welsh_springer_spaniel</td>\n",
              "      <td>0.465074</td>\n",
              "      <td>True</td>\n",
              "      <td>collie</td>\n",
              "      <td>0.156665</td>\n",
              "      <td>True</td>\n",
              "      <td>Shetland_sheepdog</td>\n",
              "      <td>0.061428</td>\n",
              "      <td>True</td>\n",
              "    </tr>\n",
              "    <tr>\n",
              "      <th>1</th>\n",
              "      <td>666029285002620928</td>\n",
              "      <td>https://pbs.twimg.com/media/CT42GRgUYAA5iDo.jpg</td>\n",
              "      <td>1</td>\n",
              "      <td>redbone</td>\n",
              "      <td>0.506826</td>\n",
              "      <td>True</td>\n",
              "      <td>miniature_pinscher</td>\n",
              "      <td>0.074192</td>\n",
              "      <td>True</td>\n",
              "      <td>Rhodesian_ridgeback</td>\n",
              "      <td>0.072010</td>\n",
              "      <td>True</td>\n",
              "    </tr>\n",
              "    <tr>\n",
              "      <th>2</th>\n",
              "      <td>666033412701032449</td>\n",
              "      <td>https://pbs.twimg.com/media/CT4521TWwAEvMyu.jpg</td>\n",
              "      <td>1</td>\n",
              "      <td>German_shepherd</td>\n",
              "      <td>0.596461</td>\n",
              "      <td>True</td>\n",
              "      <td>malinois</td>\n",
              "      <td>0.138584</td>\n",
              "      <td>True</td>\n",
              "      <td>bloodhound</td>\n",
              "      <td>0.116197</td>\n",
              "      <td>True</td>\n",
              "    </tr>\n",
              "    <tr>\n",
              "      <th>3</th>\n",
              "      <td>666044226329800704</td>\n",
              "      <td>https://pbs.twimg.com/media/CT5Dr8HUEAA-lEu.jpg</td>\n",
              "      <td>1</td>\n",
              "      <td>Rhodesian_ridgeback</td>\n",
              "      <td>0.408143</td>\n",
              "      <td>True</td>\n",
              "      <td>redbone</td>\n",
              "      <td>0.360687</td>\n",
              "      <td>True</td>\n",
              "      <td>miniature_pinscher</td>\n",
              "      <td>0.222752</td>\n",
              "      <td>True</td>\n",
              "    </tr>\n",
              "    <tr>\n",
              "      <th>4</th>\n",
              "      <td>666049248165822465</td>\n",
              "      <td>https://pbs.twimg.com/media/CT5IQmsXIAAKY4A.jpg</td>\n",
              "      <td>1</td>\n",
              "      <td>miniature_pinscher</td>\n",
              "      <td>0.560311</td>\n",
              "      <td>True</td>\n",
              "      <td>Rottweiler</td>\n",
              "      <td>0.243682</td>\n",
              "      <td>True</td>\n",
              "      <td>Doberman</td>\n",
              "      <td>0.154629</td>\n",
              "      <td>True</td>\n",
              "    </tr>\n",
              "  </tbody>\n",
              "</table>\n",
              "</div>"
            ],
            "text/plain": [
              "             tweet_id  ... p3_dog\n",
              "0  666020888022790149  ...   True\n",
              "1  666029285002620928  ...   True\n",
              "2  666033412701032449  ...   True\n",
              "3  666044226329800704  ...   True\n",
              "4  666049248165822465  ...   True\n",
              "\n",
              "[5 rows x 12 columns]"
            ]
          },
          "metadata": {
            "tags": []
          },
          "execution_count": 10
        }
      ]
    },
    {
      "cell_type": "markdown",
      "metadata": {
        "id": "proud-above"
      },
      "source": [
        "#### tweet_json.txt"
      ],
      "id": "proud-above"
    },
    {
      "cell_type": "code",
      "metadata": {
        "id": "architectural-foundation"
      },
      "source": [
        "import twitter_config"
      ],
      "id": "architectural-foundation",
      "execution_count": null,
      "outputs": []
    },
    {
      "cell_type": "code",
      "metadata": {
        "id": "wooden-dragon",
        "outputId": "2d77b8d7-500a-4374-dccd-3abfea2779bc"
      },
      "source": [
        "twitter_config.access_token_secret"
      ],
      "id": "wooden-dragon",
      "execution_count": null,
      "outputs": [
        {
          "output_type": "execute_result",
          "data": {
            "text/plain": [
              "'cDC3yasRWXWtlROHbM4fUzvzWKJlkbhZgVqEM2BFGrAjv'"
            ]
          },
          "metadata": {
            "tags": []
          },
          "execution_count": 46
        }
      ]
    },
    {
      "cell_type": "code",
      "metadata": {
        "id": "general-momentum"
      },
      "source": [
        "auth = tweepy.OAuthHandler(twitter_config.consumer_key, twitter_config.consumer_secret)\n",
        "\n",
        "auth.set_access_token(twitter_config.access_token, twitter_config.access_token_secret)\n",
        "\n",
        "api = tweepy.API(auth, wait_on_rate_limit=True, wait_on_rate_limit_notify=True)"
      ],
      "id": "general-momentum",
      "execution_count": null,
      "outputs": []
    },
    {
      "cell_type": "code",
      "metadata": {
        "id": "distinguished-better"
      },
      "source": [
        "# get all unique tweet_ids from the twitter-archive-enhanced.csv dataframe\n",
        "tweet_ids = set(df_twitter_archive['tweet_id'].unique())\n",
        "\n",
        "with open('all_tweet.json', 'wt') as file:\n",
        "    for tweet_id in tweet_ids:\n",
        "        \n",
        "        print ('Reading tweet {}'.format(tweet_id))\n",
        "        try:\n",
        "            tweet = api.get_status(tweet_id, tweet_mode='extended')\n",
        "            json.dump(tweet._json, file)\n",
        "            file.write('\\n')\n",
        "            time.sleep(1)\n",
        "        except TweepError as e:\n",
        "            print ('Error reading tweet {}'.format(tweet_id))\n",
        "            print(e)"
      ],
      "id": "distinguished-better",
      "execution_count": null,
      "outputs": []
    },
    {
      "cell_type": "code",
      "metadata": {
        "id": "GfTVfKYX9XJL"
      },
      "source": [
        "list_df = []\r\n",
        "with open('all_tweet.json') as file:\r\n",
        "  for line in file:\r\n",
        "    df_tweet = pd.DataFrame(pd.json_normalize(json.loads(line)))\r\n",
        "    list_df.append(df_tweet)\r\n",
        "\r\n",
        "df_all_tweet_info = pd.concat(list_df, axis=0)"
      ],
      "id": "GfTVfKYX9XJL",
      "execution_count": 14,
      "outputs": []
    },
    {
      "cell_type": "code",
      "metadata": {
        "colab": {
          "base_uri": "https://localhost:8080/",
          "height": 610
        },
        "id": "o5plrSlXQ9yg",
        "outputId": "5f4ab4ed-29be-4140-8792-54a190fc3875"
      },
      "source": [
        "df_all_tweet_info.head()"
      ],
      "id": "o5plrSlXQ9yg",
      "execution_count": 15,
      "outputs": [
        {
          "output_type": "execute_result",
          "data": {
            "text/html": [
              "<div>\n",
              "<style scoped>\n",
              "    .dataframe tbody tr th:only-of-type {\n",
              "        vertical-align: middle;\n",
              "    }\n",
              "\n",
              "    .dataframe tbody tr th {\n",
              "        vertical-align: top;\n",
              "    }\n",
              "\n",
              "    .dataframe thead th {\n",
              "        text-align: right;\n",
              "    }\n",
              "</style>\n",
              "<table border=\"1\" class=\"dataframe\">\n",
              "  <thead>\n",
              "    <tr style=\"text-align: right;\">\n",
              "      <th></th>\n",
              "      <th>created_at</th>\n",
              "      <th>id</th>\n",
              "      <th>id_str</th>\n",
              "      <th>full_text</th>\n",
              "      <th>truncated</th>\n",
              "      <th>display_text_range</th>\n",
              "      <th>source</th>\n",
              "      <th>in_reply_to_status_id</th>\n",
              "      <th>in_reply_to_status_id_str</th>\n",
              "      <th>in_reply_to_user_id</th>\n",
              "      <th>in_reply_to_user_id_str</th>\n",
              "      <th>in_reply_to_screen_name</th>\n",
              "      <th>geo</th>\n",
              "      <th>coordinates</th>\n",
              "      <th>place</th>\n",
              "      <th>contributors</th>\n",
              "      <th>is_quote_status</th>\n",
              "      <th>retweet_count</th>\n",
              "      <th>favorite_count</th>\n",
              "      <th>favorited</th>\n",
              "      <th>retweeted</th>\n",
              "      <th>possibly_sensitive</th>\n",
              "      <th>possibly_sensitive_appealable</th>\n",
              "      <th>lang</th>\n",
              "      <th>entities.hashtags</th>\n",
              "      <th>entities.symbols</th>\n",
              "      <th>entities.user_mentions</th>\n",
              "      <th>entities.urls</th>\n",
              "      <th>entities.media</th>\n",
              "      <th>extended_entities.media</th>\n",
              "      <th>user.id</th>\n",
              "      <th>user.id_str</th>\n",
              "      <th>user.name</th>\n",
              "      <th>user.screen_name</th>\n",
              "      <th>user.location</th>\n",
              "      <th>user.description</th>\n",
              "      <th>user.url</th>\n",
              "      <th>user.entities.url.urls</th>\n",
              "      <th>user.entities.description.urls</th>\n",
              "      <th>user.protected</th>\n",
              "      <th>...</th>\n",
              "      <th>quoted_status.user.profile_use_background_image</th>\n",
              "      <th>quoted_status.user.has_extended_profile</th>\n",
              "      <th>quoted_status.user.default_profile</th>\n",
              "      <th>quoted_status.user.default_profile_image</th>\n",
              "      <th>quoted_status.user.following</th>\n",
              "      <th>quoted_status.user.follow_request_sent</th>\n",
              "      <th>quoted_status.user.notifications</th>\n",
              "      <th>quoted_status.user.translator_type</th>\n",
              "      <th>quoted_status.geo</th>\n",
              "      <th>quoted_status.coordinates</th>\n",
              "      <th>quoted_status.place</th>\n",
              "      <th>quoted_status.contributors</th>\n",
              "      <th>quoted_status.is_quote_status</th>\n",
              "      <th>quoted_status.retweet_count</th>\n",
              "      <th>quoted_status.favorite_count</th>\n",
              "      <th>quoted_status.favorited</th>\n",
              "      <th>quoted_status.retweeted</th>\n",
              "      <th>quoted_status.possibly_sensitive</th>\n",
              "      <th>quoted_status.possibly_sensitive_appealable</th>\n",
              "      <th>quoted_status.lang</th>\n",
              "      <th>retweeted_status.place.id</th>\n",
              "      <th>retweeted_status.place.url</th>\n",
              "      <th>retweeted_status.place.place_type</th>\n",
              "      <th>retweeted_status.place.name</th>\n",
              "      <th>retweeted_status.place.full_name</th>\n",
              "      <th>retweeted_status.place.country_code</th>\n",
              "      <th>retweeted_status.place.country</th>\n",
              "      <th>retweeted_status.place.contained_within</th>\n",
              "      <th>retweeted_status.place.bounding_box.type</th>\n",
              "      <th>retweeted_status.place.bounding_box.coordinates</th>\n",
              "      <th>place.id</th>\n",
              "      <th>place.url</th>\n",
              "      <th>place.place_type</th>\n",
              "      <th>place.name</th>\n",
              "      <th>place.full_name</th>\n",
              "      <th>place.country_code</th>\n",
              "      <th>place.country</th>\n",
              "      <th>place.contained_within</th>\n",
              "      <th>place.bounding_box.type</th>\n",
              "      <th>place.bounding_box.coordinates</th>\n",
              "    </tr>\n",
              "  </thead>\n",
              "  <tbody>\n",
              "    <tr>\n",
              "      <th>0</th>\n",
              "      <td>Mon Jul 31 00:18:03 +0000 2017</td>\n",
              "      <td>891815181378084864</td>\n",
              "      <td>891815181378084864</td>\n",
              "      <td>This is Archie. He is a rare Norwegian Pouncin...</td>\n",
              "      <td>False</td>\n",
              "      <td>[0, 121]</td>\n",
              "      <td>&lt;a href=\"http://twitter.com/download/iphone\" r...</td>\n",
              "      <td>None</td>\n",
              "      <td>None</td>\n",
              "      <td>None</td>\n",
              "      <td>None</td>\n",
              "      <td>None</td>\n",
              "      <td>None</td>\n",
              "      <td>None</td>\n",
              "      <td>None</td>\n",
              "      <td>None</td>\n",
              "      <td>False</td>\n",
              "      <td>3632</td>\n",
              "      <td>22828</td>\n",
              "      <td>False</td>\n",
              "      <td>False</td>\n",
              "      <td>False</td>\n",
              "      <td>False</td>\n",
              "      <td>en</td>\n",
              "      <td>[]</td>\n",
              "      <td>[]</td>\n",
              "      <td>[]</td>\n",
              "      <td>[]</td>\n",
              "      <td>[{'id': 891815175371796480, 'id_str': '8918151...</td>\n",
              "      <td>[{'id': 891815175371796480, 'id_str': '8918151...</td>\n",
              "      <td>4196983835</td>\n",
              "      <td>4196983835</td>\n",
              "      <td>WeRateDogs®</td>\n",
              "      <td>dog_rates</td>\n",
              "      <td>links and things ➜</td>\n",
              "      <td>Your Only Source For Professional Dog Ratings ...</td>\n",
              "      <td>https://t.co/6ytGi24QCk</td>\n",
              "      <td>[{'url': 'https://t.co/6ytGi24QCk', 'expanded_...</td>\n",
              "      <td>[]</td>\n",
              "      <td>False</td>\n",
              "      <td>...</td>\n",
              "      <td>NaN</td>\n",
              "      <td>NaN</td>\n",
              "      <td>NaN</td>\n",
              "      <td>NaN</td>\n",
              "      <td>NaN</td>\n",
              "      <td>NaN</td>\n",
              "      <td>NaN</td>\n",
              "      <td>NaN</td>\n",
              "      <td>NaN</td>\n",
              "      <td>NaN</td>\n",
              "      <td>NaN</td>\n",
              "      <td>NaN</td>\n",
              "      <td>NaN</td>\n",
              "      <td>NaN</td>\n",
              "      <td>NaN</td>\n",
              "      <td>NaN</td>\n",
              "      <td>NaN</td>\n",
              "      <td>NaN</td>\n",
              "      <td>NaN</td>\n",
              "      <td>NaN</td>\n",
              "      <td>NaN</td>\n",
              "      <td>NaN</td>\n",
              "      <td>NaN</td>\n",
              "      <td>NaN</td>\n",
              "      <td>NaN</td>\n",
              "      <td>NaN</td>\n",
              "      <td>NaN</td>\n",
              "      <td>NaN</td>\n",
              "      <td>NaN</td>\n",
              "      <td>NaN</td>\n",
              "      <td>NaN</td>\n",
              "      <td>NaN</td>\n",
              "      <td>NaN</td>\n",
              "      <td>NaN</td>\n",
              "      <td>NaN</td>\n",
              "      <td>NaN</td>\n",
              "      <td>NaN</td>\n",
              "      <td>NaN</td>\n",
              "      <td>NaN</td>\n",
              "      <td>NaN</td>\n",
              "    </tr>\n",
              "    <tr>\n",
              "      <th>0</th>\n",
              "      <td>Tue Aug 01 16:23:56 +0000 2017</td>\n",
              "      <td>892420643555336193</td>\n",
              "      <td>892420643555336193</td>\n",
              "      <td>This is Phineas. He's a mystical boy. Only eve...</td>\n",
              "      <td>False</td>\n",
              "      <td>[0, 85]</td>\n",
              "      <td>&lt;a href=\"http://twitter.com/download/iphone\" r...</td>\n",
              "      <td>None</td>\n",
              "      <td>None</td>\n",
              "      <td>None</td>\n",
              "      <td>None</td>\n",
              "      <td>None</td>\n",
              "      <td>None</td>\n",
              "      <td>None</td>\n",
              "      <td>None</td>\n",
              "      <td>None</td>\n",
              "      <td>False</td>\n",
              "      <td>7372</td>\n",
              "      <td>35072</td>\n",
              "      <td>False</td>\n",
              "      <td>False</td>\n",
              "      <td>False</td>\n",
              "      <td>False</td>\n",
              "      <td>en</td>\n",
              "      <td>[]</td>\n",
              "      <td>[]</td>\n",
              "      <td>[]</td>\n",
              "      <td>[]</td>\n",
              "      <td>[{'id': 892420639486877696, 'id_str': '8924206...</td>\n",
              "      <td>[{'id': 892420639486877696, 'id_str': '8924206...</td>\n",
              "      <td>4196983835</td>\n",
              "      <td>4196983835</td>\n",
              "      <td>WeRateDogs®</td>\n",
              "      <td>dog_rates</td>\n",
              "      <td>links and things ➜</td>\n",
              "      <td>Your Only Source For Professional Dog Ratings ...</td>\n",
              "      <td>https://t.co/6ytGi24QCk</td>\n",
              "      <td>[{'url': 'https://t.co/6ytGi24QCk', 'expanded_...</td>\n",
              "      <td>[]</td>\n",
              "      <td>False</td>\n",
              "      <td>...</td>\n",
              "      <td>NaN</td>\n",
              "      <td>NaN</td>\n",
              "      <td>NaN</td>\n",
              "      <td>NaN</td>\n",
              "      <td>NaN</td>\n",
              "      <td>NaN</td>\n",
              "      <td>NaN</td>\n",
              "      <td>NaN</td>\n",
              "      <td>NaN</td>\n",
              "      <td>NaN</td>\n",
              "      <td>NaN</td>\n",
              "      <td>NaN</td>\n",
              "      <td>NaN</td>\n",
              "      <td>NaN</td>\n",
              "      <td>NaN</td>\n",
              "      <td>NaN</td>\n",
              "      <td>NaN</td>\n",
              "      <td>NaN</td>\n",
              "      <td>NaN</td>\n",
              "      <td>NaN</td>\n",
              "      <td>NaN</td>\n",
              "      <td>NaN</td>\n",
              "      <td>NaN</td>\n",
              "      <td>NaN</td>\n",
              "      <td>NaN</td>\n",
              "      <td>NaN</td>\n",
              "      <td>NaN</td>\n",
              "      <td>NaN</td>\n",
              "      <td>NaN</td>\n",
              "      <td>NaN</td>\n",
              "      <td>NaN</td>\n",
              "      <td>NaN</td>\n",
              "      <td>NaN</td>\n",
              "      <td>NaN</td>\n",
              "      <td>NaN</td>\n",
              "      <td>NaN</td>\n",
              "      <td>NaN</td>\n",
              "      <td>NaN</td>\n",
              "      <td>NaN</td>\n",
              "      <td>NaN</td>\n",
              "    </tr>\n",
              "    <tr>\n",
              "      <th>0</th>\n",
              "      <td>Sat Jul 29 16:00:24 +0000 2017</td>\n",
              "      <td>891327558926688256</td>\n",
              "      <td>891327558926688256</td>\n",
              "      <td>This is Franklin. He would like you to stop ca...</td>\n",
              "      <td>False</td>\n",
              "      <td>[0, 138]</td>\n",
              "      <td>&lt;a href=\"http://twitter.com/download/iphone\" r...</td>\n",
              "      <td>None</td>\n",
              "      <td>None</td>\n",
              "      <td>None</td>\n",
              "      <td>None</td>\n",
              "      <td>None</td>\n",
              "      <td>None</td>\n",
              "      <td>None</td>\n",
              "      <td>None</td>\n",
              "      <td>None</td>\n",
              "      <td>False</td>\n",
              "      <td>8137</td>\n",
              "      <td>36622</td>\n",
              "      <td>False</td>\n",
              "      <td>False</td>\n",
              "      <td>False</td>\n",
              "      <td>False</td>\n",
              "      <td>en</td>\n",
              "      <td>[{'text': 'BarkWeek', 'indices': [129, 138]}]</td>\n",
              "      <td>[]</td>\n",
              "      <td>[]</td>\n",
              "      <td>[]</td>\n",
              "      <td>[{'id': 891327551943041024, 'id_str': '8913275...</td>\n",
              "      <td>[{'id': 891327551943041024, 'id_str': '8913275...</td>\n",
              "      <td>4196983835</td>\n",
              "      <td>4196983835</td>\n",
              "      <td>WeRateDogs®</td>\n",
              "      <td>dog_rates</td>\n",
              "      <td>links and things ➜</td>\n",
              "      <td>Your Only Source For Professional Dog Ratings ...</td>\n",
              "      <td>https://t.co/6ytGi24QCk</td>\n",
              "      <td>[{'url': 'https://t.co/6ytGi24QCk', 'expanded_...</td>\n",
              "      <td>[]</td>\n",
              "      <td>False</td>\n",
              "      <td>...</td>\n",
              "      <td>NaN</td>\n",
              "      <td>NaN</td>\n",
              "      <td>NaN</td>\n",
              "      <td>NaN</td>\n",
              "      <td>NaN</td>\n",
              "      <td>NaN</td>\n",
              "      <td>NaN</td>\n",
              "      <td>NaN</td>\n",
              "      <td>NaN</td>\n",
              "      <td>NaN</td>\n",
              "      <td>NaN</td>\n",
              "      <td>NaN</td>\n",
              "      <td>NaN</td>\n",
              "      <td>NaN</td>\n",
              "      <td>NaN</td>\n",
              "      <td>NaN</td>\n",
              "      <td>NaN</td>\n",
              "      <td>NaN</td>\n",
              "      <td>NaN</td>\n",
              "      <td>NaN</td>\n",
              "      <td>NaN</td>\n",
              "      <td>NaN</td>\n",
              "      <td>NaN</td>\n",
              "      <td>NaN</td>\n",
              "      <td>NaN</td>\n",
              "      <td>NaN</td>\n",
              "      <td>NaN</td>\n",
              "      <td>NaN</td>\n",
              "      <td>NaN</td>\n",
              "      <td>NaN</td>\n",
              "      <td>NaN</td>\n",
              "      <td>NaN</td>\n",
              "      <td>NaN</td>\n",
              "      <td>NaN</td>\n",
              "      <td>NaN</td>\n",
              "      <td>NaN</td>\n",
              "      <td>NaN</td>\n",
              "      <td>NaN</td>\n",
              "      <td>NaN</td>\n",
              "      <td>NaN</td>\n",
              "    </tr>\n",
              "    <tr>\n",
              "      <th>0</th>\n",
              "      <td>Sun Jul 30 15:58:51 +0000 2017</td>\n",
              "      <td>891689557279858688</td>\n",
              "      <td>891689557279858688</td>\n",
              "      <td>This is Darla. She commenced a snooze mid meal...</td>\n",
              "      <td>False</td>\n",
              "      <td>[0, 79]</td>\n",
              "      <td>&lt;a href=\"http://twitter.com/download/iphone\" r...</td>\n",
              "      <td>None</td>\n",
              "      <td>None</td>\n",
              "      <td>None</td>\n",
              "      <td>None</td>\n",
              "      <td>None</td>\n",
              "      <td>None</td>\n",
              "      <td>None</td>\n",
              "      <td>None</td>\n",
              "      <td>None</td>\n",
              "      <td>False</td>\n",
              "      <td>7550</td>\n",
              "      <td>38346</td>\n",
              "      <td>False</td>\n",
              "      <td>False</td>\n",
              "      <td>False</td>\n",
              "      <td>False</td>\n",
              "      <td>en</td>\n",
              "      <td>[]</td>\n",
              "      <td>[]</td>\n",
              "      <td>[]</td>\n",
              "      <td>[]</td>\n",
              "      <td>[{'id': 891689552724799489, 'id_str': '8916895...</td>\n",
              "      <td>[{'id': 891689552724799489, 'id_str': '8916895...</td>\n",
              "      <td>4196983835</td>\n",
              "      <td>4196983835</td>\n",
              "      <td>WeRateDogs®</td>\n",
              "      <td>dog_rates</td>\n",
              "      <td>links and things ➜</td>\n",
              "      <td>Your Only Source For Professional Dog Ratings ...</td>\n",
              "      <td>https://t.co/6ytGi24QCk</td>\n",
              "      <td>[{'url': 'https://t.co/6ytGi24QCk', 'expanded_...</td>\n",
              "      <td>[]</td>\n",
              "      <td>False</td>\n",
              "      <td>...</td>\n",
              "      <td>NaN</td>\n",
              "      <td>NaN</td>\n",
              "      <td>NaN</td>\n",
              "      <td>NaN</td>\n",
              "      <td>NaN</td>\n",
              "      <td>NaN</td>\n",
              "      <td>NaN</td>\n",
              "      <td>NaN</td>\n",
              "      <td>NaN</td>\n",
              "      <td>NaN</td>\n",
              "      <td>NaN</td>\n",
              "      <td>NaN</td>\n",
              "      <td>NaN</td>\n",
              "      <td>NaN</td>\n",
              "      <td>NaN</td>\n",
              "      <td>NaN</td>\n",
              "      <td>NaN</td>\n",
              "      <td>NaN</td>\n",
              "      <td>NaN</td>\n",
              "      <td>NaN</td>\n",
              "      <td>NaN</td>\n",
              "      <td>NaN</td>\n",
              "      <td>NaN</td>\n",
              "      <td>NaN</td>\n",
              "      <td>NaN</td>\n",
              "      <td>NaN</td>\n",
              "      <td>NaN</td>\n",
              "      <td>NaN</td>\n",
              "      <td>NaN</td>\n",
              "      <td>NaN</td>\n",
              "      <td>NaN</td>\n",
              "      <td>NaN</td>\n",
              "      <td>NaN</td>\n",
              "      <td>NaN</td>\n",
              "      <td>NaN</td>\n",
              "      <td>NaN</td>\n",
              "      <td>NaN</td>\n",
              "      <td>NaN</td>\n",
              "      <td>NaN</td>\n",
              "      <td>NaN</td>\n",
              "    </tr>\n",
              "    <tr>\n",
              "      <th>0</th>\n",
              "      <td>Fri Jul 28 16:27:12 +0000 2017</td>\n",
              "      <td>890971913173991426</td>\n",
              "      <td>890971913173991426</td>\n",
              "      <td>Meet Jax. He enjoys ice cream so much he gets ...</td>\n",
              "      <td>False</td>\n",
              "      <td>[0, 140]</td>\n",
              "      <td>&lt;a href=\"http://twitter.com/download/iphone\" r...</td>\n",
              "      <td>None</td>\n",
              "      <td>None</td>\n",
              "      <td>None</td>\n",
              "      <td>None</td>\n",
              "      <td>None</td>\n",
              "      <td>None</td>\n",
              "      <td>None</td>\n",
              "      <td>None</td>\n",
              "      <td>None</td>\n",
              "      <td>False</td>\n",
              "      <td>1764</td>\n",
              "      <td>10743</td>\n",
              "      <td>False</td>\n",
              "      <td>False</td>\n",
              "      <td>False</td>\n",
              "      <td>False</td>\n",
              "      <td>en</td>\n",
              "      <td>[]</td>\n",
              "      <td>[]</td>\n",
              "      <td>[]</td>\n",
              "      <td>[{'url': 'https://t.co/Zr4hWfAs1H', 'expanded_...</td>\n",
              "      <td>[{'id': 890971906207338496, 'id_str': '8909719...</td>\n",
              "      <td>[{'id': 890971906207338496, 'id_str': '8909719...</td>\n",
              "      <td>4196983835</td>\n",
              "      <td>4196983835</td>\n",
              "      <td>WeRateDogs®</td>\n",
              "      <td>dog_rates</td>\n",
              "      <td>links and things ➜</td>\n",
              "      <td>Your Only Source For Professional Dog Ratings ...</td>\n",
              "      <td>https://t.co/6ytGi24QCk</td>\n",
              "      <td>[{'url': 'https://t.co/6ytGi24QCk', 'expanded_...</td>\n",
              "      <td>[]</td>\n",
              "      <td>False</td>\n",
              "      <td>...</td>\n",
              "      <td>NaN</td>\n",
              "      <td>NaN</td>\n",
              "      <td>NaN</td>\n",
              "      <td>NaN</td>\n",
              "      <td>NaN</td>\n",
              "      <td>NaN</td>\n",
              "      <td>NaN</td>\n",
              "      <td>NaN</td>\n",
              "      <td>NaN</td>\n",
              "      <td>NaN</td>\n",
              "      <td>NaN</td>\n",
              "      <td>NaN</td>\n",
              "      <td>NaN</td>\n",
              "      <td>NaN</td>\n",
              "      <td>NaN</td>\n",
              "      <td>NaN</td>\n",
              "      <td>NaN</td>\n",
              "      <td>NaN</td>\n",
              "      <td>NaN</td>\n",
              "      <td>NaN</td>\n",
              "      <td>NaN</td>\n",
              "      <td>NaN</td>\n",
              "      <td>NaN</td>\n",
              "      <td>NaN</td>\n",
              "      <td>NaN</td>\n",
              "      <td>NaN</td>\n",
              "      <td>NaN</td>\n",
              "      <td>NaN</td>\n",
              "      <td>NaN</td>\n",
              "      <td>NaN</td>\n",
              "      <td>NaN</td>\n",
              "      <td>NaN</td>\n",
              "      <td>NaN</td>\n",
              "      <td>NaN</td>\n",
              "      <td>NaN</td>\n",
              "      <td>NaN</td>\n",
              "      <td>NaN</td>\n",
              "      <td>NaN</td>\n",
              "      <td>NaN</td>\n",
              "      <td>NaN</td>\n",
              "    </tr>\n",
              "  </tbody>\n",
              "</table>\n",
              "<p>5 rows × 322 columns</p>\n",
              "</div>"
            ],
            "text/plain": [
              "                       created_at  ...  place.bounding_box.coordinates\n",
              "0  Mon Jul 31 00:18:03 +0000 2017  ...                             NaN\n",
              "0  Tue Aug 01 16:23:56 +0000 2017  ...                             NaN\n",
              "0  Sat Jul 29 16:00:24 +0000 2017  ...                             NaN\n",
              "0  Sun Jul 30 15:58:51 +0000 2017  ...                             NaN\n",
              "0  Fri Jul 28 16:27:12 +0000 2017  ...                             NaN\n",
              "\n",
              "[5 rows x 322 columns]"
            ]
          },
          "metadata": {
            "tags": []
          },
          "execution_count": 15
        }
      ]
    },
    {
      "cell_type": "code",
      "metadata": {
        "id": "sOgfbMk_QrRd"
      },
      "source": [
        "df_retweet_favorite_info = df_all_tweet_info[['id','retweet_count', 'favorite_count', 'created_at']]"
      ],
      "id": "sOgfbMk_QrRd",
      "execution_count": 16,
      "outputs": []
    },
    {
      "cell_type": "code",
      "metadata": {
        "colab": {
          "base_uri": "https://localhost:8080/"
        },
        "id": "s8tpaM76jsWn",
        "outputId": "c99b6045-9c7d-4a24-ce23-4437b67ee0f9"
      },
      "source": [
        "df_retweet_favorite_info.shape"
      ],
      "id": "s8tpaM76jsWn",
      "execution_count": 17,
      "outputs": [
        {
          "output_type": "execute_result",
          "data": {
            "text/plain": [
              "(2331, 4)"
            ]
          },
          "metadata": {
            "tags": []
          },
          "execution_count": 17
        }
      ]
    },
    {
      "cell_type": "code",
      "metadata": {
        "colab": {
          "base_uri": "https://localhost:8080/"
        },
        "id": "ahoSM-VyOEj7",
        "outputId": "4000bf31-732b-48ab-d747-4cc6a7ecab67"
      },
      "source": [
        "df_retweet_favorite_info.info()"
      ],
      "id": "ahoSM-VyOEj7",
      "execution_count": 18,
      "outputs": [
        {
          "output_type": "stream",
          "text": [
            "<class 'pandas.core.frame.DataFrame'>\n",
            "Int64Index: 2331 entries, 0 to 0\n",
            "Data columns (total 4 columns):\n",
            " #   Column          Non-Null Count  Dtype \n",
            "---  ------          --------------  ----- \n",
            " 0   id              2331 non-null   int64 \n",
            " 1   retweet_count   2331 non-null   int64 \n",
            " 2   favorite_count  2331 non-null   int64 \n",
            " 3   created_at      2331 non-null   object\n",
            "dtypes: int64(3), object(1)\n",
            "memory usage: 91.1+ KB\n"
          ],
          "name": "stdout"
        }
      ]
    },
    {
      "cell_type": "code",
      "metadata": {
        "colab": {
          "base_uri": "https://localhost:8080/",
          "height": 203
        },
        "id": "sQ7wAoI5i-bM",
        "outputId": "a9b98f78-a5a2-4448-e9f2-9d7b02b6d827"
      },
      "source": [
        "df_retweet_favorite_info.head()"
      ],
      "id": "sQ7wAoI5i-bM",
      "execution_count": 19,
      "outputs": [
        {
          "output_type": "execute_result",
          "data": {
            "text/html": [
              "<div>\n",
              "<style scoped>\n",
              "    .dataframe tbody tr th:only-of-type {\n",
              "        vertical-align: middle;\n",
              "    }\n",
              "\n",
              "    .dataframe tbody tr th {\n",
              "        vertical-align: top;\n",
              "    }\n",
              "\n",
              "    .dataframe thead th {\n",
              "        text-align: right;\n",
              "    }\n",
              "</style>\n",
              "<table border=\"1\" class=\"dataframe\">\n",
              "  <thead>\n",
              "    <tr style=\"text-align: right;\">\n",
              "      <th></th>\n",
              "      <th>id</th>\n",
              "      <th>retweet_count</th>\n",
              "      <th>favorite_count</th>\n",
              "      <th>created_at</th>\n",
              "    </tr>\n",
              "  </thead>\n",
              "  <tbody>\n",
              "    <tr>\n",
              "      <th>0</th>\n",
              "      <td>891815181378084864</td>\n",
              "      <td>3632</td>\n",
              "      <td>22828</td>\n",
              "      <td>Mon Jul 31 00:18:03 +0000 2017</td>\n",
              "    </tr>\n",
              "    <tr>\n",
              "      <th>0</th>\n",
              "      <td>892420643555336193</td>\n",
              "      <td>7372</td>\n",
              "      <td>35072</td>\n",
              "      <td>Tue Aug 01 16:23:56 +0000 2017</td>\n",
              "    </tr>\n",
              "    <tr>\n",
              "      <th>0</th>\n",
              "      <td>891327558926688256</td>\n",
              "      <td>8137</td>\n",
              "      <td>36622</td>\n",
              "      <td>Sat Jul 29 16:00:24 +0000 2017</td>\n",
              "    </tr>\n",
              "    <tr>\n",
              "      <th>0</th>\n",
              "      <td>891689557279858688</td>\n",
              "      <td>7550</td>\n",
              "      <td>38346</td>\n",
              "      <td>Sun Jul 30 15:58:51 +0000 2017</td>\n",
              "    </tr>\n",
              "    <tr>\n",
              "      <th>0</th>\n",
              "      <td>890971913173991426</td>\n",
              "      <td>1764</td>\n",
              "      <td>10743</td>\n",
              "      <td>Fri Jul 28 16:27:12 +0000 2017</td>\n",
              "    </tr>\n",
              "  </tbody>\n",
              "</table>\n",
              "</div>"
            ],
            "text/plain": [
              "                   id  ...                      created_at\n",
              "0  891815181378084864  ...  Mon Jul 31 00:18:03 +0000 2017\n",
              "0  892420643555336193  ...  Tue Aug 01 16:23:56 +0000 2017\n",
              "0  891327558926688256  ...  Sat Jul 29 16:00:24 +0000 2017\n",
              "0  891689557279858688  ...  Sun Jul 30 15:58:51 +0000 2017\n",
              "0  890971913173991426  ...  Fri Jul 28 16:27:12 +0000 2017\n",
              "\n",
              "[5 rows x 4 columns]"
            ]
          },
          "metadata": {
            "tags": []
          },
          "execution_count": 19
        }
      ]
    },
    {
      "cell_type": "markdown",
      "metadata": {
        "id": "oKIGffbyjB0e"
      },
      "source": [
        "## 2. Assess"
      ],
      "id": "oKIGffbyjB0e"
    },
    {
      "cell_type": "markdown",
      "metadata": {
        "id": "OomCTyrdlxvy"
      },
      "source": [
        "After gathering each of the above pieces of data, assess them visually and programmatically for quality and tidiness issues. Detect and document at least eight (8) quality issues and two (2) tidiness issues in your wrangle_act.ipynb Jupyter Notebook. To meet specifications, the issues that satisfy the Project Motivation (see the Key Points header on the previous page) must be assessed.\r\n",
        "\r\n"
      ],
      "id": "OomCTyrdlxvy"
    },
    {
      "cell_type": "markdown",
      "metadata": {
        "id": "2ZsGquifE4FL"
      },
      "source": [
        "#### Quality Issues"
      ],
      "id": "2ZsGquifE4FL"
    },
    {
      "cell_type": "code",
      "metadata": {
        "colab": {
          "base_uri": "https://localhost:8080/"
        },
        "id": "dgGvuuzTvbgx",
        "outputId": "88665223-ba4f-492e-c460-a0f1acf0f9ea"
      },
      "source": [
        "df_twitter_archive['name'].value_counts()"
      ],
      "id": "dgGvuuzTvbgx",
      "execution_count": 94,
      "outputs": [
        {
          "output_type": "execute_result",
          "data": {
            "text/plain": [
              "None        745\n",
              "a            55\n",
              "Charlie      12\n",
              "Cooper       11\n",
              "Lucy         11\n",
              "           ... \n",
              "Jeffri        1\n",
              "Hero          1\n",
              "Beckham       1\n",
              "Maya          1\n",
              "Harrison      1\n",
              "Name: name, Length: 957, dtype: int64"
            ]
          },
          "metadata": {
            "tags": []
          },
          "execution_count": 94
        }
      ]
    },
    {
      "cell_type": "code",
      "metadata": {
        "colab": {
          "base_uri": "https://localhost:8080/"
        },
        "id": "2RSbxeKvzAAC",
        "outputId": "c170edbb-3e07-467b-b571-0d51996dcd75"
      },
      "source": [
        "df_twitter_archive[df_twitter_archive['name'].str.len() < 3]['name'].value_counts()"
      ],
      "id": "2RSbxeKvzAAC",
      "execution_count": 95,
      "outputs": [
        {
          "output_type": "execute_result",
          "data": {
            "text/plain": [
              "a     55\n",
              "Bo     9\n",
              "an     7\n",
              "Jo     1\n",
              "Mo     1\n",
              "by     1\n",
              "Ed     1\n",
              "my     1\n",
              "Al     1\n",
              "O      1\n",
              "JD     1\n",
              "Name: name, dtype: int64"
            ]
          },
          "metadata": {
            "tags": []
          },
          "execution_count": 95
        }
      ]
    },
    {
      "cell_type": "markdown",
      "metadata": {
        "id": "LzHpytbXym0_"
      },
      "source": [
        "> 1. We found some problems in dog names such as: 'None', 'a', 'an', 'all' and 'my'."
      ],
      "id": "LzHpytbXym0_"
    },
    {
      "cell_type": "markdown",
      "metadata": {
        "id": "fqBqYRhlXmFe"
      },
      "source": [
        "> 2. After visual inspecting we found the following problems in rating_rumerator:\r\n",
        "\r\n",
        "<ul>\r\n",
        "<li>\r\n",
        "45 - This is Bella. She hopes her smile made you smile. If not, she is also offering you her favorite monkey. 13.5/10 https://t.co/qjrljjt948\r\n",
        "</li>\r\n",
        "<li>\r\n",
        "784 - RT @dog_rates: After so many requests, this is Bretagne. She was the last surviving 9/11 search dog, and our second ever 14/10. RIP https:/…\r\n",
        "</li>\r\n",
        "<li>\r\n",
        "1068 - After so many requests, this is Bretagne. She was the last surviving 9/11 search dog, and our second ever 14/10. RIP https://t.co/XAVDNDaVgQ\r\n",
        "</li>\r\n",
        "</ul>"
      ],
      "id": "fqBqYRhlXmFe"
    },
    {
      "cell_type": "markdown",
      "metadata": {
        "id": "WntnLowUTYGp"
      },
      "source": [
        "> 3. After visual inspecting, we found the following problems in rating_denominator:\r\n",
        "<ul>\r\n",
        "<li>\r\n",
        "342 - @docmisterio account started on 11/15/15\r\n",
        "</li>\r\n",
        "<li>\r\n",
        "784 - RT @dog_rates: After so many requests, this is Bretagne. She was the last surviving 9/11 search dog, and our second ever 14/10. RIP https:/…\r\n",
        "</li>\r\n",
        "<li>\r\n",
        "1068 - After so many requests, this is Bretagne. She was the last surviving 9/11 search dog, and our second ever 14/10. RIP https://t.co/XAVDNDaVgQ\r\n",
        "</li>\r\n",
        "<li>\r\n",
        "1662 - This is Darrel. He just robbed a 7/11 and is in a high speed police chase. Was just spotted by the helicopter 10/10 https://t.co/7EsP8LmSp5\r\n",
        "</li>\r\n",
        "</ul>"
      ],
      "id": "WntnLowUTYGp"
    },
    {
      "cell_type": "code",
      "metadata": {
        "colab": {
          "base_uri": "https://localhost:8080/"
        },
        "id": "ZVDpHOzoZ1Gc",
        "outputId": "402dc635-bfb8-4ea2-8583-0bf059e9e332"
      },
      "source": [
        "df_twitter_archive[df_twitter_archive[['retweeted_status_id', 'retweeted_status_user_id',\t'retweeted_status_timestamp']].notna().any(axis=1)].shape"
      ],
      "id": "ZVDpHOzoZ1Gc",
      "execution_count": 113,
      "outputs": [
        {
          "output_type": "execute_result",
          "data": {
            "text/plain": [
              "(181, 17)"
            ]
          },
          "metadata": {
            "tags": []
          },
          "execution_count": 113
        }
      ]
    },
    {
      "cell_type": "markdown",
      "metadata": {
        "id": "bwDKsfWMbFh7"
      },
      "source": [
        "> 4. Programatically, we identified 181 <strong>retweets</strong> that should be excluded from the database."
      ],
      "id": "bwDKsfWMbFh7"
    },
    {
      "cell_type": "code",
      "metadata": {
        "colab": {
          "base_uri": "https://localhost:8080/"
        },
        "id": "xHk893aHaCwh",
        "outputId": "0edf393b-f366-4369-be3d-6d77ee557a98"
      },
      "source": [
        "df_twitter_archive[df_twitter_archive[['in_reply_to_status_id', 'in_reply_to_user_id']].notna().any(axis=1)].shape"
      ],
      "id": "xHk893aHaCwh",
      "execution_count": 114,
      "outputs": [
        {
          "output_type": "execute_result",
          "data": {
            "text/plain": [
              "(78, 17)"
            ]
          },
          "metadata": {
            "tags": []
          },
          "execution_count": 114
        }
      ]
    },
    {
      "cell_type": "markdown",
      "metadata": {
        "id": "hqhy2DwC5BkP"
      },
      "source": [
        "> 5. Programatically, we identified 78 <strong>replies</strong> that should be excluded from the database."
      ],
      "id": "hqhy2DwC5BkP"
    },
    {
      "cell_type": "code",
      "metadata": {
        "id": "6ImQNH6FRAEd",
        "colab": {
          "base_uri": "https://localhost:8080/"
        },
        "outputId": "1e8d4528-f16c-4dd0-fabc-888c513a98aa"
      },
      "source": [
        "df_twitter_archive['timestamp'].dtype"
      ],
      "id": "6ImQNH6FRAEd",
      "execution_count": 116,
      "outputs": [
        {
          "output_type": "execute_result",
          "data": {
            "text/plain": [
              "dtype('O')"
            ]
          },
          "metadata": {
            "tags": []
          },
          "execution_count": 116
        }
      ]
    },
    {
      "cell_type": "markdown",
      "metadata": {
        "id": "nzsMYQ0m5aj1"
      },
      "source": [
        "> 6. Programatically, we identified that the timestamp columns is with incorrect data type."
      ],
      "id": "nzsMYQ0m5aj1"
    },
    {
      "cell_type": "code",
      "metadata": {
        "colab": {
          "base_uri": "https://localhost:8080/"
        },
        "id": "A9WfXyUuxn2-",
        "outputId": "7b5ca8d4-6a4b-4d85-ebe8-582979f03738"
      },
      "source": [
        "df_twitter_archive['tweet_id'].isin(list(df_image_predictions['tweet_id'])).value_counts()"
      ],
      "id": "A9WfXyUuxn2-",
      "execution_count": 111,
      "outputs": [
        {
          "output_type": "execute_result",
          "data": {
            "text/plain": [
              "True     2075\n",
              "False     281\n",
              "Name: tweet_id, dtype: int64"
            ]
          },
          "metadata": {
            "tags": []
          },
          "execution_count": 111
        }
      ]
    },
    {
      "cell_type": "markdown",
      "metadata": {
        "id": "DbeT3bru9bA9"
      },
      "source": [
        "> 7. Programatically, we identified that 281 observations don't have corresponding image."
      ],
      "id": "DbeT3bru9bA9"
    },
    {
      "cell_type": "code",
      "metadata": {
        "colab": {
          "base_uri": "https://localhost:8080/",
          "height": 581
        },
        "id": "HEmp6y_EpZ3Q",
        "outputId": "8ad65466-0f92-4767-87dc-7020b29de6f9"
      },
      "source": [
        "df.head()"
      ],
      "id": "HEmp6y_EpZ3Q",
      "execution_count": 103,
      "outputs": [
        {
          "output_type": "execute_result",
          "data": {
            "text/html": [
              "<div>\n",
              "<style scoped>\n",
              "    .dataframe tbody tr th:only-of-type {\n",
              "        vertical-align: middle;\n",
              "    }\n",
              "\n",
              "    .dataframe tbody tr th {\n",
              "        vertical-align: top;\n",
              "    }\n",
              "\n",
              "    .dataframe thead th {\n",
              "        text-align: right;\n",
              "    }\n",
              "</style>\n",
              "<table border=\"1\" class=\"dataframe\">\n",
              "  <thead>\n",
              "    <tr style=\"text-align: right;\">\n",
              "      <th></th>\n",
              "      <th>tweet_id</th>\n",
              "      <th>in_reply_to_status_id</th>\n",
              "      <th>in_reply_to_user_id</th>\n",
              "      <th>timestamp</th>\n",
              "      <th>source</th>\n",
              "      <th>text</th>\n",
              "      <th>retweeted_status_id</th>\n",
              "      <th>retweeted_status_user_id</th>\n",
              "      <th>retweeted_status_timestamp</th>\n",
              "      <th>expanded_urls</th>\n",
              "      <th>rating_numerator</th>\n",
              "      <th>rating_denominator</th>\n",
              "      <th>name</th>\n",
              "      <th>doggo</th>\n",
              "      <th>floofer</th>\n",
              "      <th>pupper</th>\n",
              "      <th>puppo</th>\n",
              "      <th>jpg_url</th>\n",
              "      <th>img_num</th>\n",
              "      <th>p1</th>\n",
              "      <th>p1_conf</th>\n",
              "      <th>p1_dog</th>\n",
              "      <th>p2</th>\n",
              "      <th>p2_conf</th>\n",
              "      <th>p2_dog</th>\n",
              "      <th>p3</th>\n",
              "      <th>p3_conf</th>\n",
              "      <th>p3_dog</th>\n",
              "      <th>id</th>\n",
              "      <th>retweet_count</th>\n",
              "      <th>favorite_count</th>\n",
              "      <th>created_at</th>\n",
              "    </tr>\n",
              "  </thead>\n",
              "  <tbody>\n",
              "    <tr>\n",
              "      <th>0</th>\n",
              "      <td>892420643555336193</td>\n",
              "      <td>NaN</td>\n",
              "      <td>NaN</td>\n",
              "      <td>2017-08-01 16:23:56+00:00</td>\n",
              "      <td>&lt;a href=\"http://twitter.com/download/iphone\" r...</td>\n",
              "      <td>This is Phineas. He's a mystical boy. Only eve...</td>\n",
              "      <td>NaN</td>\n",
              "      <td>NaN</td>\n",
              "      <td>NaN</td>\n",
              "      <td>https://twitter.com/dog_rates/status/892420643...</td>\n",
              "      <td>13</td>\n",
              "      <td>10</td>\n",
              "      <td>Phineas</td>\n",
              "      <td>None</td>\n",
              "      <td>None</td>\n",
              "      <td>None</td>\n",
              "      <td>None</td>\n",
              "      <td>https://pbs.twimg.com/media/DGKD1-bXoAAIAUK.jpg</td>\n",
              "      <td>1.0</td>\n",
              "      <td>orange</td>\n",
              "      <td>0.097049</td>\n",
              "      <td>False</td>\n",
              "      <td>bagel</td>\n",
              "      <td>0.085851</td>\n",
              "      <td>False</td>\n",
              "      <td>banana</td>\n",
              "      <td>0.076110</td>\n",
              "      <td>False</td>\n",
              "      <td>8.924206e+17</td>\n",
              "      <td>7372.0</td>\n",
              "      <td>35072.0</td>\n",
              "      <td>Tue Aug 01 16:23:56 +0000 2017</td>\n",
              "    </tr>\n",
              "    <tr>\n",
              "      <th>1</th>\n",
              "      <td>892177421306343426</td>\n",
              "      <td>NaN</td>\n",
              "      <td>NaN</td>\n",
              "      <td>2017-08-01 00:17:27+00:00</td>\n",
              "      <td>&lt;a href=\"http://twitter.com/download/iphone\" r...</td>\n",
              "      <td>This is Tilly. She's just checking pup on you....</td>\n",
              "      <td>NaN</td>\n",
              "      <td>NaN</td>\n",
              "      <td>NaN</td>\n",
              "      <td>https://twitter.com/dog_rates/status/892177421...</td>\n",
              "      <td>13</td>\n",
              "      <td>10</td>\n",
              "      <td>Tilly</td>\n",
              "      <td>None</td>\n",
              "      <td>None</td>\n",
              "      <td>None</td>\n",
              "      <td>None</td>\n",
              "      <td>https://pbs.twimg.com/media/DGGmoV4XsAAUL6n.jpg</td>\n",
              "      <td>1.0</td>\n",
              "      <td>Chihuahua</td>\n",
              "      <td>0.323581</td>\n",
              "      <td>True</td>\n",
              "      <td>Pekinese</td>\n",
              "      <td>0.090647</td>\n",
              "      <td>True</td>\n",
              "      <td>papillon</td>\n",
              "      <td>0.068957</td>\n",
              "      <td>True</td>\n",
              "      <td>8.921774e+17</td>\n",
              "      <td>5494.0</td>\n",
              "      <td>30366.0</td>\n",
              "      <td>Tue Aug 01 00:17:27 +0000 2017</td>\n",
              "    </tr>\n",
              "    <tr>\n",
              "      <th>2</th>\n",
              "      <td>891815181378084864</td>\n",
              "      <td>NaN</td>\n",
              "      <td>NaN</td>\n",
              "      <td>2017-07-31 00:18:03+00:00</td>\n",
              "      <td>&lt;a href=\"http://twitter.com/download/iphone\" r...</td>\n",
              "      <td>This is Archie. He is a rare Norwegian Pouncin...</td>\n",
              "      <td>NaN</td>\n",
              "      <td>NaN</td>\n",
              "      <td>NaN</td>\n",
              "      <td>https://twitter.com/dog_rates/status/891815181...</td>\n",
              "      <td>12</td>\n",
              "      <td>10</td>\n",
              "      <td>Archie</td>\n",
              "      <td>None</td>\n",
              "      <td>None</td>\n",
              "      <td>None</td>\n",
              "      <td>None</td>\n",
              "      <td>https://pbs.twimg.com/media/DGBdLU1WsAANxJ9.jpg</td>\n",
              "      <td>1.0</td>\n",
              "      <td>Chihuahua</td>\n",
              "      <td>0.716012</td>\n",
              "      <td>True</td>\n",
              "      <td>malamute</td>\n",
              "      <td>0.078253</td>\n",
              "      <td>True</td>\n",
              "      <td>kelpie</td>\n",
              "      <td>0.031379</td>\n",
              "      <td>True</td>\n",
              "      <td>8.918152e+17</td>\n",
              "      <td>3632.0</td>\n",
              "      <td>22828.0</td>\n",
              "      <td>Mon Jul 31 00:18:03 +0000 2017</td>\n",
              "    </tr>\n",
              "    <tr>\n",
              "      <th>3</th>\n",
              "      <td>891689557279858688</td>\n",
              "      <td>NaN</td>\n",
              "      <td>NaN</td>\n",
              "      <td>2017-07-30 15:58:51+00:00</td>\n",
              "      <td>&lt;a href=\"http://twitter.com/download/iphone\" r...</td>\n",
              "      <td>This is Darla. She commenced a snooze mid meal...</td>\n",
              "      <td>NaN</td>\n",
              "      <td>NaN</td>\n",
              "      <td>NaN</td>\n",
              "      <td>https://twitter.com/dog_rates/status/891689557...</td>\n",
              "      <td>13</td>\n",
              "      <td>10</td>\n",
              "      <td>Darla</td>\n",
              "      <td>None</td>\n",
              "      <td>None</td>\n",
              "      <td>None</td>\n",
              "      <td>None</td>\n",
              "      <td>https://pbs.twimg.com/media/DF_q7IAWsAEuuN8.jpg</td>\n",
              "      <td>1.0</td>\n",
              "      <td>paper_towel</td>\n",
              "      <td>0.170278</td>\n",
              "      <td>False</td>\n",
              "      <td>Labrador_retriever</td>\n",
              "      <td>0.168086</td>\n",
              "      <td>True</td>\n",
              "      <td>spatula</td>\n",
              "      <td>0.040836</td>\n",
              "      <td>False</td>\n",
              "      <td>8.916896e+17</td>\n",
              "      <td>7550.0</td>\n",
              "      <td>38346.0</td>\n",
              "      <td>Sun Jul 30 15:58:51 +0000 2017</td>\n",
              "    </tr>\n",
              "    <tr>\n",
              "      <th>4</th>\n",
              "      <td>891327558926688256</td>\n",
              "      <td>NaN</td>\n",
              "      <td>NaN</td>\n",
              "      <td>2017-07-29 16:00:24+00:00</td>\n",
              "      <td>&lt;a href=\"http://twitter.com/download/iphone\" r...</td>\n",
              "      <td>This is Franklin. He would like you to stop ca...</td>\n",
              "      <td>NaN</td>\n",
              "      <td>NaN</td>\n",
              "      <td>NaN</td>\n",
              "      <td>https://twitter.com/dog_rates/status/891327558...</td>\n",
              "      <td>12</td>\n",
              "      <td>10</td>\n",
              "      <td>Franklin</td>\n",
              "      <td>None</td>\n",
              "      <td>None</td>\n",
              "      <td>None</td>\n",
              "      <td>None</td>\n",
              "      <td>https://pbs.twimg.com/media/DF6hr6BUMAAzZgT.jpg</td>\n",
              "      <td>2.0</td>\n",
              "      <td>basset</td>\n",
              "      <td>0.555712</td>\n",
              "      <td>True</td>\n",
              "      <td>English_springer</td>\n",
              "      <td>0.225770</td>\n",
              "      <td>True</td>\n",
              "      <td>German_short-haired_pointer</td>\n",
              "      <td>0.175219</td>\n",
              "      <td>True</td>\n",
              "      <td>8.913276e+17</td>\n",
              "      <td>8137.0</td>\n",
              "      <td>36622.0</td>\n",
              "      <td>Sat Jul 29 16:00:24 +0000 2017</td>\n",
              "    </tr>\n",
              "  </tbody>\n",
              "</table>\n",
              "</div>"
            ],
            "text/plain": [
              "             tweet_id  ...                      created_at\n",
              "0  892420643555336193  ...  Tue Aug 01 16:23:56 +0000 2017\n",
              "1  892177421306343426  ...  Tue Aug 01 00:17:27 +0000 2017\n",
              "2  891815181378084864  ...  Mon Jul 31 00:18:03 +0000 2017\n",
              "3  891689557279858688  ...  Sun Jul 30 15:58:51 +0000 2017\n",
              "4  891327558926688256  ...  Sat Jul 29 16:00:24 +0000 2017\n",
              "\n",
              "[5 rows x 32 columns]"
            ]
          },
          "metadata": {
            "tags": []
          },
          "execution_count": 103
        }
      ]
    },
    {
      "cell_type": "markdown",
      "metadata": {
        "id": "V_EHhNVOFFRv"
      },
      "source": [
        "> 8. The columns 'in_reply_to_status_id', 'in_reply_to_user_id', 'retweeted_status_id',\t'retweeted_status_user_id', 'retweeted_status_timestamp' are not relevant to our analysis and should be dropped."
      ],
      "id": "V_EHhNVOFFRv"
    },
    {
      "cell_type": "markdown",
      "metadata": {
        "id": "bizhP1vTDxDQ"
      },
      "source": [
        "#### Tidyness Issues"
      ],
      "id": "bizhP1vTDxDQ"
    },
    {
      "cell_type": "markdown",
      "metadata": {
        "id": "XxJ0PlrVx4ey"
      },
      "source": [
        "1. All three DataFrames hold information about the same entity, therefore, it should be considered as a single DataFrame.\r\n",
        "2. The dog types are in four different columns, but the information could in fact be in only one."
      ],
      "id": "XxJ0PlrVx4ey"
    },
    {
      "cell_type": "markdown",
      "metadata": {
        "id": "_9-k5NLCzavZ"
      },
      "source": [
        "## Clean"
      ],
      "id": "_9-k5NLCzavZ"
    },
    {
      "cell_type": "code",
      "metadata": {
        "id": "FFeVgwm4GAbv"
      },
      "source": [
        "# merge the three DataFrames\r\n",
        "_ = pd.merge(df_twitter_archive, df_image_predictions, on='tweet_id', how='left')\r\n",
        "df = pd.merge(_, df_retweet_favorite_info, left_on='tweet_id', right_on='id', how='left')"
      ],
      "id": "FFeVgwm4GAbv",
      "execution_count": 156,
      "outputs": []
    },
    {
      "cell_type": "code",
      "metadata": {
        "id": "Dgd2LY8L5Wv4"
      },
      "source": [
        "# extract the stage from the text\r\n",
        "df['stage'] = df['text'].str.extract('(doggo|floofer|pupper|puppo)', expand = True)"
      ],
      "id": "Dgd2LY8L5Wv4",
      "execution_count": 157,
      "outputs": []
    },
    {
      "cell_type": "code",
      "metadata": {
        "id": "PjlCjZs89qeU"
      },
      "source": [
        "# drop the separate stage columns\r\n",
        "df.drop(['doggo', 'floofer', 'pupper', 'puppo'], axis=1, inplace=True)"
      ],
      "id": "PjlCjZs89qeU",
      "execution_count": 158,
      "outputs": []
    },
    {
      "cell_type": "code",
      "metadata": {
        "id": "TLJg8-NRCGZn"
      },
      "source": [
        "df_twitter_archive[df_twitter_archive[['retweeted_status_id', 'retweeted_status_user_id',\t'retweeted_status_timestamp']].notna().any(axis=1)].shape"
      ],
      "id": "TLJg8-NRCGZn",
      "execution_count": null,
      "outputs": []
    },
    {
      "cell_type": "code",
      "metadata": {
        "id": "3-utGstvCwQU"
      },
      "source": [
        "# drop replier values\r\n",
        "idx = df[df[['in_reply_to_status_id', 'in_reply_to_user_id']].notna().any(axis=1)].index\r\n",
        "df.drop(idx, inplace=True)"
      ],
      "id": "3-utGstvCwQU",
      "execution_count": 169,
      "outputs": []
    },
    {
      "cell_type": "code",
      "metadata": {
        "id": "fPsfbwYk-Zvw"
      },
      "source": [
        "# drop the unecessary replier columns\r\n",
        "df.drop(['in_reply_to_status_id', 'in_reply_to_user_id'], axis=1, inplace=True)"
      ],
      "id": "fPsfbwYk-Zvw",
      "execution_count": 170,
      "outputs": []
    },
    {
      "cell_type": "code",
      "metadata": {
        "id": "WXgXUrL0CIGg"
      },
      "source": [
        "# drop retweet values\r\n",
        "idx = df[df[['retweeted_status_id', 'retweeted_status_user_id',\t'retweeted_status_timestamp']].notna().any(axis=1)].index\r\n",
        "df.drop(idx, inplace=True)"
      ],
      "id": "WXgXUrL0CIGg",
      "execution_count": 166,
      "outputs": []
    },
    {
      "cell_type": "code",
      "metadata": {
        "id": "xm-r89W6CsiZ"
      },
      "source": [
        "# drop the unecessary retweet columns\r\n",
        "df.drop(['retweeted_status_id', 'retweeted_status_user_id', 'retweeted_status_timestamp'], axis=1, inplace=True)"
      ],
      "id": "xm-r89W6CsiZ",
      "execution_count": 167,
      "outputs": []
    },
    {
      "cell_type": "code",
      "metadata": {
        "id": "r45fuP5v-t2d"
      },
      "source": [
        "# convert the timestamp column to datetime\r\n",
        "df['timestamp'] = pd.to_datetime(df['timestamp'])"
      ],
      "id": "r45fuP5v-t2d",
      "execution_count": 155,
      "outputs": []
    },
    {
      "cell_type": "code",
      "metadata": {
        "id": "81GL4d6mQhO7"
      },
      "source": [
        "# drop duplicated id column\r\n",
        "df.drop(['id'], axis='columns', inplace=True)"
      ],
      "id": "81GL4d6mQhO7",
      "execution_count": 185,
      "outputs": []
    },
    {
      "cell_type": "code",
      "metadata": {
        "id": "FGh8tmwLC9EB"
      },
      "source": [
        "# Fix data issues: 13/10 to 13.5/10\r\n",
        "idx = df['text'].str.contains('This is Bella. She hopes her smile made you smile. If not, she is also offering you her favorite monkey. 13.5/10')\r\n",
        "df.loc[idx, ['rating_numerator', 'rating_denominator']] = [13.5, 10]"
      ],
      "id": "FGh8tmwLC9EB",
      "execution_count": 175,
      "outputs": []
    },
    {
      "cell_type": "code",
      "metadata": {
        "id": "x7vZddxtEj-Z"
      },
      "source": [
        "# Fix data issues: 9/11 to 14/10\r\n",
        "idx = df['text'].str.contains('After so many requests, this is Bretagne. She was the last surviving 9/11 search dog, and our second ever 14/10. RIP')\r\n",
        "df.loc[idx, ['rating_numerator', 'rating_denominator']] = [14, 10]"
      ],
      "id": "x7vZddxtEj-Z",
      "execution_count": 178,
      "outputs": []
    },
    {
      "cell_type": "code",
      "metadata": {
        "id": "eK-t72DXE3JU"
      },
      "source": [
        "# Fix data issues: 7/11 to 10/10\r\n",
        "idx = df['text'].str.contains('This is Darrel. He just robbed a 7/11 and is in a high speed police chase. Was just spotted by the helicopter 10/10')\r\n",
        "df.loc[idx, ['rating_numerator', 'rating_denominator']] = [10, 10]"
      ],
      "id": "eK-t72DXE3JU",
      "execution_count": 181,
      "outputs": []
    },
    {
      "cell_type": "code",
      "metadata": {
        "id": "7IJ7NvYqNTvC"
      },
      "source": [
        "df.to_csv(\"twitter_archive_master.csv\")"
      ],
      "id": "7IJ7NvYqNTvC",
      "execution_count": 183,
      "outputs": []
    },
    {
      "cell_type": "markdown",
      "metadata": {
        "id": "ZqMt2ZUPMADG"
      },
      "source": [
        "### EDA"
      ],
      "id": "ZqMt2ZUPMADG"
    },
    {
      "cell_type": "code",
      "metadata": {
        "colab": {
          "base_uri": "https://localhost:8080/",
          "height": 581
        },
        "id": "uiJ0fiU_NSBK",
        "outputId": "c50cbf91-b2e5-4766-8b70-a2d0c4be6377"
      },
      "source": [
        "df.head()"
      ],
      "id": "uiJ0fiU_NSBK",
      "execution_count": 186,
      "outputs": [
        {
          "output_type": "execute_result",
          "data": {
            "text/html": [
              "<div>\n",
              "<style scoped>\n",
              "    .dataframe tbody tr th:only-of-type {\n",
              "        vertical-align: middle;\n",
              "    }\n",
              "\n",
              "    .dataframe tbody tr th {\n",
              "        vertical-align: top;\n",
              "    }\n",
              "\n",
              "    .dataframe thead th {\n",
              "        text-align: right;\n",
              "    }\n",
              "</style>\n",
              "<table border=\"1\" class=\"dataframe\">\n",
              "  <thead>\n",
              "    <tr style=\"text-align: right;\">\n",
              "      <th></th>\n",
              "      <th>tweet_id</th>\n",
              "      <th>timestamp</th>\n",
              "      <th>source</th>\n",
              "      <th>text</th>\n",
              "      <th>expanded_urls</th>\n",
              "      <th>rating_numerator</th>\n",
              "      <th>rating_denominator</th>\n",
              "      <th>name</th>\n",
              "      <th>jpg_url</th>\n",
              "      <th>img_num</th>\n",
              "      <th>p1</th>\n",
              "      <th>p1_conf</th>\n",
              "      <th>p1_dog</th>\n",
              "      <th>p2</th>\n",
              "      <th>p2_conf</th>\n",
              "      <th>p2_dog</th>\n",
              "      <th>p3</th>\n",
              "      <th>p3_conf</th>\n",
              "      <th>p3_dog</th>\n",
              "      <th>retweet_count</th>\n",
              "      <th>favorite_count</th>\n",
              "      <th>created_at</th>\n",
              "      <th>stage</th>\n",
              "    </tr>\n",
              "  </thead>\n",
              "  <tbody>\n",
              "    <tr>\n",
              "      <th>0</th>\n",
              "      <td>892420643555336193</td>\n",
              "      <td>2017-08-01 16:23:56 +0000</td>\n",
              "      <td>&lt;a href=\"http://twitter.com/download/iphone\" r...</td>\n",
              "      <td>This is Phineas. He's a mystical boy. Only eve...</td>\n",
              "      <td>https://twitter.com/dog_rates/status/892420643...</td>\n",
              "      <td>13.0</td>\n",
              "      <td>10</td>\n",
              "      <td>Phineas</td>\n",
              "      <td>https://pbs.twimg.com/media/DGKD1-bXoAAIAUK.jpg</td>\n",
              "      <td>1.0</td>\n",
              "      <td>orange</td>\n",
              "      <td>0.097049</td>\n",
              "      <td>False</td>\n",
              "      <td>bagel</td>\n",
              "      <td>0.085851</td>\n",
              "      <td>False</td>\n",
              "      <td>banana</td>\n",
              "      <td>0.076110</td>\n",
              "      <td>False</td>\n",
              "      <td>7372.0</td>\n",
              "      <td>35072.0</td>\n",
              "      <td>Tue Aug 01 16:23:56 +0000 2017</td>\n",
              "      <td>NaN</td>\n",
              "    </tr>\n",
              "    <tr>\n",
              "      <th>1</th>\n",
              "      <td>892177421306343426</td>\n",
              "      <td>2017-08-01 00:17:27 +0000</td>\n",
              "      <td>&lt;a href=\"http://twitter.com/download/iphone\" r...</td>\n",
              "      <td>This is Tilly. She's just checking pup on you....</td>\n",
              "      <td>https://twitter.com/dog_rates/status/892177421...</td>\n",
              "      <td>13.0</td>\n",
              "      <td>10</td>\n",
              "      <td>Tilly</td>\n",
              "      <td>https://pbs.twimg.com/media/DGGmoV4XsAAUL6n.jpg</td>\n",
              "      <td>1.0</td>\n",
              "      <td>Chihuahua</td>\n",
              "      <td>0.323581</td>\n",
              "      <td>True</td>\n",
              "      <td>Pekinese</td>\n",
              "      <td>0.090647</td>\n",
              "      <td>True</td>\n",
              "      <td>papillon</td>\n",
              "      <td>0.068957</td>\n",
              "      <td>True</td>\n",
              "      <td>5494.0</td>\n",
              "      <td>30366.0</td>\n",
              "      <td>Tue Aug 01 00:17:27 +0000 2017</td>\n",
              "      <td>NaN</td>\n",
              "    </tr>\n",
              "    <tr>\n",
              "      <th>2</th>\n",
              "      <td>891815181378084864</td>\n",
              "      <td>2017-07-31 00:18:03 +0000</td>\n",
              "      <td>&lt;a href=\"http://twitter.com/download/iphone\" r...</td>\n",
              "      <td>This is Archie. He is a rare Norwegian Pouncin...</td>\n",
              "      <td>https://twitter.com/dog_rates/status/891815181...</td>\n",
              "      <td>12.0</td>\n",
              "      <td>10</td>\n",
              "      <td>Archie</td>\n",
              "      <td>https://pbs.twimg.com/media/DGBdLU1WsAANxJ9.jpg</td>\n",
              "      <td>1.0</td>\n",
              "      <td>Chihuahua</td>\n",
              "      <td>0.716012</td>\n",
              "      <td>True</td>\n",
              "      <td>malamute</td>\n",
              "      <td>0.078253</td>\n",
              "      <td>True</td>\n",
              "      <td>kelpie</td>\n",
              "      <td>0.031379</td>\n",
              "      <td>True</td>\n",
              "      <td>3632.0</td>\n",
              "      <td>22828.0</td>\n",
              "      <td>Mon Jul 31 00:18:03 +0000 2017</td>\n",
              "      <td>NaN</td>\n",
              "    </tr>\n",
              "    <tr>\n",
              "      <th>3</th>\n",
              "      <td>891689557279858688</td>\n",
              "      <td>2017-07-30 15:58:51 +0000</td>\n",
              "      <td>&lt;a href=\"http://twitter.com/download/iphone\" r...</td>\n",
              "      <td>This is Darla. She commenced a snooze mid meal...</td>\n",
              "      <td>https://twitter.com/dog_rates/status/891689557...</td>\n",
              "      <td>13.0</td>\n",
              "      <td>10</td>\n",
              "      <td>Darla</td>\n",
              "      <td>https://pbs.twimg.com/media/DF_q7IAWsAEuuN8.jpg</td>\n",
              "      <td>1.0</td>\n",
              "      <td>paper_towel</td>\n",
              "      <td>0.170278</td>\n",
              "      <td>False</td>\n",
              "      <td>Labrador_retriever</td>\n",
              "      <td>0.168086</td>\n",
              "      <td>True</td>\n",
              "      <td>spatula</td>\n",
              "      <td>0.040836</td>\n",
              "      <td>False</td>\n",
              "      <td>7550.0</td>\n",
              "      <td>38346.0</td>\n",
              "      <td>Sun Jul 30 15:58:51 +0000 2017</td>\n",
              "      <td>NaN</td>\n",
              "    </tr>\n",
              "    <tr>\n",
              "      <th>4</th>\n",
              "      <td>891327558926688256</td>\n",
              "      <td>2017-07-29 16:00:24 +0000</td>\n",
              "      <td>&lt;a href=\"http://twitter.com/download/iphone\" r...</td>\n",
              "      <td>This is Franklin. He would like you to stop ca...</td>\n",
              "      <td>https://twitter.com/dog_rates/status/891327558...</td>\n",
              "      <td>12.0</td>\n",
              "      <td>10</td>\n",
              "      <td>Franklin</td>\n",
              "      <td>https://pbs.twimg.com/media/DF6hr6BUMAAzZgT.jpg</td>\n",
              "      <td>2.0</td>\n",
              "      <td>basset</td>\n",
              "      <td>0.555712</td>\n",
              "      <td>True</td>\n",
              "      <td>English_springer</td>\n",
              "      <td>0.225770</td>\n",
              "      <td>True</td>\n",
              "      <td>German_short-haired_pointer</td>\n",
              "      <td>0.175219</td>\n",
              "      <td>True</td>\n",
              "      <td>8137.0</td>\n",
              "      <td>36622.0</td>\n",
              "      <td>Sat Jul 29 16:00:24 +0000 2017</td>\n",
              "      <td>NaN</td>\n",
              "    </tr>\n",
              "  </tbody>\n",
              "</table>\n",
              "</div>"
            ],
            "text/plain": [
              "             tweet_id  ... stage\n",
              "0  892420643555336193  ...   NaN\n",
              "1  892177421306343426  ...   NaN\n",
              "2  891815181378084864  ...   NaN\n",
              "3  891689557279858688  ...   NaN\n",
              "4  891327558926688256  ...   NaN\n",
              "\n",
              "[5 rows x 23 columns]"
            ]
          },
          "metadata": {
            "tags": []
          },
          "execution_count": 186
        }
      ]
    },
    {
      "cell_type": "code",
      "metadata": {
        "id": "oCxHTroVNcve"
      },
      "source": [
        ""
      ],
      "id": "oCxHTroVNcve",
      "execution_count": null,
      "outputs": []
    }
  ]
}