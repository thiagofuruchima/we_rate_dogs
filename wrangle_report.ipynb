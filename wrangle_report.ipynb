{
 "cells": [
  {
   "cell_type": "markdown",
   "id": "academic-acceptance",
   "metadata": {},
   "source": [
    "## WeRateDogs - Data Wrangling Report\n",
    "\n"
   ]
  },
  {
   "cell_type": "markdown",
   "id": "banned-immune",
   "metadata": {},
   "source": [
    "Data wrangling for the WeRateDogs project consisted of the following steps:\n",
    "\n",
    "1. Data Gathering;\n",
    "2. Data Assessing;\n",
    "3. Data Cleaning.\n",
    "\n",
    "In the Data Gathering step, three different data sources, all of them related to the WeRateDogs tweets, were processed: one comma separated file, which was manually downloaded from the Udacity servers; one tab separated file, programatically donwloaded from a specific url; and one dataset programatically constructed from tweets acessed using Tweepy API. All of these datasets were managed using Pandas library.\n",
    "\n",
    "In the Data Assessing step the Pandas library was once again used to inpect both visually and programatically the three datasets in order to identify quality and structural issues.\n",
    "\n",
    "The following were our findings related to quality issues:\n",
    "\n",
    "- Problems in dog names, such as: 'None', 'a', 'an', 'all' and 'my';\n",
    "- Problems in rating numerator, such as: 9/11 and 13.5/10;\n",
    "- Problems in rating denominator, such as: 1/15/15, 9/11 and 7/11;\n",
    "- 181 retweets that should be excluded from the dataset;\n",
    "- 78 replies that should be excluded from the dataset;\n",
    "- timestamp column with incorrect data type;\n",
    "- 281 tweets without corresponding image;\n",
    "- Columns that are not relevant to our analysis, such as 'in_reply_to_status_id', 'in_reply_to_user_id', 'retweeted_status_id', 'retweeted_status_user_id' and 'retweeted_status_timestamp';\n",
    "- Dog types without proper letter case. Also using \"_\" as word separator.\n",
    "\n",
    "The following were our findings related to structural issues:\n",
    "\n",
    "- All three DataFrames hold information about the same entity, therefore, it should be considered as a single DataFrame.\n",
    "- The dog types are in four different columns, but the information could in fact be in only one.\n",
    "\n",
    "Lastly, in the Data Cleaning step, the Pandas library was used to fix all of these problems.\n",
    "\n",
    "- The three datasets were merged into a single master dataset.\n",
    "- The wrong dog names were converted to np.NaN.\n",
    "- The dog breeds were extracted from the tweet text, into a single column. The separete breed columns were dropped.\n",
    "- The tweets that were replies our retweets were deleted;\n",
    "- The timestamp column was converted from 'object' datatype to timestamp datatype;\n",
    "- Issues related to numerator and denominator were individually fixed.\n",
    "- Dog breed names were capitalized apropriatelly."
   ]
  },
  {
   "cell_type": "code",
   "execution_count": null,
   "id": "warming-encounter",
   "metadata": {},
   "outputs": [],
   "source": []
  }
 ],
 "metadata": {
  "kernelspec": {
   "display_name": "Python 3",
   "language": "python",
   "name": "python3"
  },
  "language_info": {
   "codemirror_mode": {
    "name": "ipython",
    "version": 3
   },
   "file_extension": ".py",
   "mimetype": "text/x-python",
   "name": "python",
   "nbconvert_exporter": "python",
   "pygments_lexer": "ipython3",
   "version": "3.8.8"
  }
 },
 "nbformat": 4,
 "nbformat_minor": 5
}
